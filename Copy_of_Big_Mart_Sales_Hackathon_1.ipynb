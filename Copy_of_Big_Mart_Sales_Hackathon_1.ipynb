{
 "cells": [
  {
   "cell_type": "code",
   "execution_count": 418,
   "metadata": {
    "colab": {},
    "colab_type": "code",
    "id": "udGaCFxBHkqD"
   },
   "outputs": [],
   "source": [
    "# from google.colab import drive\n",
    "# drive.mount('/content/drive')"
   ]
  },
  {
   "cell_type": "code",
   "execution_count": 419,
   "metadata": {
    "colab": {},
    "colab_type": "code",
    "id": "UcngZlalIfVz"
   },
   "outputs": [],
   "source": [
    "import pandas as pd\n",
    "import numpy as np\n",
    "import matplotlib.pyplot as plt\n",
    "import seaborn as sns\n",
    "%matplotlib inline\n",
    "import warnings\n",
    "warnings.filterwarnings(\"ignore\")"
   ]
  },
  {
   "cell_type": "code",
   "execution_count": 420,
   "metadata": {
    "colab": {},
    "colab_type": "code",
    "id": "uvmrSIN_H6lo"
   },
   "outputs": [],
   "source": [
    "df = pd.read_csv('train.csv')\n",
    "test = pd.read_csv('test.csv')"
   ]
  },
  {
   "cell_type": "code",
   "execution_count": 421,
   "metadata": {
    "colab": {
     "base_uri": "https://localhost:8080/",
     "height": 309
    },
    "colab_type": "code",
    "id": "lAJ_q3N9Idn1",
    "outputId": "65c66ae0-d801-4b46-9238-64ee651d625b"
   },
   "outputs": [
    {
     "data": {
      "text/html": [
       "<div>\n",
       "<style scoped>\n",
       "    .dataframe tbody tr th:only-of-type {\n",
       "        vertical-align: middle;\n",
       "    }\n",
       "\n",
       "    .dataframe tbody tr th {\n",
       "        vertical-align: top;\n",
       "    }\n",
       "\n",
       "    .dataframe thead th {\n",
       "        text-align: right;\n",
       "    }\n",
       "</style>\n",
       "<table border=\"1\" class=\"dataframe\">\n",
       "  <thead>\n",
       "    <tr style=\"text-align: right;\">\n",
       "      <th></th>\n",
       "      <th>Item_Identifier</th>\n",
       "      <th>Item_Weight</th>\n",
       "      <th>Item_Fat_Content</th>\n",
       "      <th>Item_Visibility</th>\n",
       "      <th>Item_Type</th>\n",
       "      <th>Item_MRP</th>\n",
       "      <th>Outlet_Identifier</th>\n",
       "      <th>Outlet_Establishment_Year</th>\n",
       "      <th>Outlet_Size</th>\n",
       "      <th>Outlet_Location_Type</th>\n",
       "      <th>Outlet_Type</th>\n",
       "      <th>Item_Outlet_Sales</th>\n",
       "    </tr>\n",
       "  </thead>\n",
       "  <tbody>\n",
       "    <tr>\n",
       "      <th>0</th>\n",
       "      <td>FDA15</td>\n",
       "      <td>9.30</td>\n",
       "      <td>Low Fat</td>\n",
       "      <td>0.016047</td>\n",
       "      <td>Dairy</td>\n",
       "      <td>249.8092</td>\n",
       "      <td>OUT049</td>\n",
       "      <td>1999</td>\n",
       "      <td>Medium</td>\n",
       "      <td>Tier 1</td>\n",
       "      <td>Supermarket Type1</td>\n",
       "      <td>3735.1380</td>\n",
       "    </tr>\n",
       "    <tr>\n",
       "      <th>1</th>\n",
       "      <td>DRC01</td>\n",
       "      <td>5.92</td>\n",
       "      <td>Regular</td>\n",
       "      <td>0.019278</td>\n",
       "      <td>Soft Drinks</td>\n",
       "      <td>48.2692</td>\n",
       "      <td>OUT018</td>\n",
       "      <td>2009</td>\n",
       "      <td>Medium</td>\n",
       "      <td>Tier 3</td>\n",
       "      <td>Supermarket Type2</td>\n",
       "      <td>443.4228</td>\n",
       "    </tr>\n",
       "    <tr>\n",
       "      <th>2</th>\n",
       "      <td>FDN15</td>\n",
       "      <td>17.50</td>\n",
       "      <td>Low Fat</td>\n",
       "      <td>0.016760</td>\n",
       "      <td>Meat</td>\n",
       "      <td>141.6180</td>\n",
       "      <td>OUT049</td>\n",
       "      <td>1999</td>\n",
       "      <td>Medium</td>\n",
       "      <td>Tier 1</td>\n",
       "      <td>Supermarket Type1</td>\n",
       "      <td>2097.2700</td>\n",
       "    </tr>\n",
       "    <tr>\n",
       "      <th>3</th>\n",
       "      <td>FDX07</td>\n",
       "      <td>19.20</td>\n",
       "      <td>Regular</td>\n",
       "      <td>0.000000</td>\n",
       "      <td>Fruits and Vegetables</td>\n",
       "      <td>182.0950</td>\n",
       "      <td>OUT010</td>\n",
       "      <td>1998</td>\n",
       "      <td>NaN</td>\n",
       "      <td>Tier 3</td>\n",
       "      <td>Grocery Store</td>\n",
       "      <td>732.3800</td>\n",
       "    </tr>\n",
       "    <tr>\n",
       "      <th>4</th>\n",
       "      <td>NCD19</td>\n",
       "      <td>8.93</td>\n",
       "      <td>Low Fat</td>\n",
       "      <td>0.000000</td>\n",
       "      <td>Household</td>\n",
       "      <td>53.8614</td>\n",
       "      <td>OUT013</td>\n",
       "      <td>1987</td>\n",
       "      <td>High</td>\n",
       "      <td>Tier 3</td>\n",
       "      <td>Supermarket Type1</td>\n",
       "      <td>994.7052</td>\n",
       "    </tr>\n",
       "  </tbody>\n",
       "</table>\n",
       "</div>"
      ],
      "text/plain": [
       "  Item_Identifier  Item_Weight Item_Fat_Content  Item_Visibility  \\\n",
       "0           FDA15         9.30          Low Fat         0.016047   \n",
       "1           DRC01         5.92          Regular         0.019278   \n",
       "2           FDN15        17.50          Low Fat         0.016760   \n",
       "3           FDX07        19.20          Regular         0.000000   \n",
       "4           NCD19         8.93          Low Fat         0.000000   \n",
       "\n",
       "               Item_Type  Item_MRP Outlet_Identifier  \\\n",
       "0                  Dairy  249.8092            OUT049   \n",
       "1            Soft Drinks   48.2692            OUT018   \n",
       "2                   Meat  141.6180            OUT049   \n",
       "3  Fruits and Vegetables  182.0950            OUT010   \n",
       "4              Household   53.8614            OUT013   \n",
       "\n",
       "   Outlet_Establishment_Year Outlet_Size Outlet_Location_Type  \\\n",
       "0                       1999      Medium               Tier 1   \n",
       "1                       2009      Medium               Tier 3   \n",
       "2                       1999      Medium               Tier 1   \n",
       "3                       1998         NaN               Tier 3   \n",
       "4                       1987        High               Tier 3   \n",
       "\n",
       "         Outlet_Type  Item_Outlet_Sales  \n",
       "0  Supermarket Type1          3735.1380  \n",
       "1  Supermarket Type2           443.4228  \n",
       "2  Supermarket Type1          2097.2700  \n",
       "3      Grocery Store           732.3800  \n",
       "4  Supermarket Type1           994.7052  "
      ]
     },
     "execution_count": 421,
     "metadata": {},
     "output_type": "execute_result"
    }
   ],
   "source": [
    "df.head()"
   ]
  },
  {
   "cell_type": "markdown",
   "metadata": {
    "colab_type": "text",
    "id": "eOcmWKgUVYl2"
   },
   "source": [
    "# PRE PROCESSING"
   ]
  },
  {
   "cell_type": "code",
   "execution_count": 422,
   "metadata": {
    "colab": {
     "base_uri": "https://localhost:8080/",
     "height": 347
    },
    "colab_type": "code",
    "id": "mnG08fo1IarC",
    "outputId": "96eaba2b-d2f9-4cd4-f8fc-96f5d63c100c"
   },
   "outputs": [
    {
     "name": "stdout",
     "output_type": "stream",
     "text": [
      "<class 'pandas.core.frame.DataFrame'>\n",
      "RangeIndex: 8523 entries, 0 to 8522\n",
      "Data columns (total 12 columns):\n",
      " #   Column                     Non-Null Count  Dtype  \n",
      "---  ------                     --------------  -----  \n",
      " 0   Item_Identifier            8523 non-null   object \n",
      " 1   Item_Weight                7060 non-null   float64\n",
      " 2   Item_Fat_Content           8523 non-null   object \n",
      " 3   Item_Visibility            8523 non-null   float64\n",
      " 4   Item_Type                  8523 non-null   object \n",
      " 5   Item_MRP                   8523 non-null   float64\n",
      " 6   Outlet_Identifier          8523 non-null   object \n",
      " 7   Outlet_Establishment_Year  8523 non-null   int64  \n",
      " 8   Outlet_Size                6113 non-null   object \n",
      " 9   Outlet_Location_Type       8523 non-null   object \n",
      " 10  Outlet_Type                8523 non-null   object \n",
      " 11  Item_Outlet_Sales          8523 non-null   float64\n",
      "dtypes: float64(4), int64(1), object(7)\n",
      "memory usage: 799.2+ KB\n"
     ]
    }
   ],
   "source": [
    "df.info()"
   ]
  },
  {
   "cell_type": "code",
   "execution_count": 423,
   "metadata": {
    "colab": {
     "base_uri": "https://localhost:8080/",
     "height": 35
    },
    "colab_type": "code",
    "id": "tMEUWpIhP_LA",
    "outputId": "75bc63b3-8a2e-413d-ab17-c119d4dde4a1"
   },
   "outputs": [
    {
     "data": {
      "text/plain": [
       "(8523, 12)"
      ]
     },
     "execution_count": 423,
     "metadata": {},
     "output_type": "execute_result"
    }
   ],
   "source": [
    "df.shape"
   ]
  },
  {
   "cell_type": "code",
   "execution_count": 424,
   "metadata": {
    "colab": {
     "base_uri": "https://localhost:8080/",
     "height": 243
    },
    "colab_type": "code",
    "id": "m4-vZky5QGi2",
    "outputId": "b5043a44-ad56-4eb7-e238-8f67cd838440"
   },
   "outputs": [
    {
     "data": {
      "text/plain": [
       "Item_Identifier                 0\n",
       "Item_Weight                  1463\n",
       "Item_Fat_Content                0\n",
       "Item_Visibility                 0\n",
       "Item_Type                       0\n",
       "Item_MRP                        0\n",
       "Outlet_Identifier               0\n",
       "Outlet_Establishment_Year       0\n",
       "Outlet_Size                  2410\n",
       "Outlet_Location_Type            0\n",
       "Outlet_Type                     0\n",
       "Item_Outlet_Sales               0\n",
       "dtype: int64"
      ]
     },
     "execution_count": 424,
     "metadata": {},
     "output_type": "execute_result"
    }
   ],
   "source": [
    "df.isna().sum()"
   ]
  },
  {
   "cell_type": "code",
   "execution_count": 425,
   "metadata": {
    "colab": {
     "base_uri": "https://localhost:8080/",
     "height": 35
    },
    "colab_type": "code",
    "id": "IcM3Jq1SQMti",
    "outputId": "7832704f-2d83-44b0-e418-d66daf46d81c"
   },
   "outputs": [
    {
     "name": "stdout",
     "output_type": "stream",
     "text": [
      "Medium\n"
     ]
    }
   ],
   "source": [
    "print(df.Outlet_Size.mode()[0])\n",
    "df.Outlet_Size.fillna(df.Outlet_Size.mode()[0],inplace=True)"
   ]
  },
  {
   "cell_type": "code",
   "execution_count": 426,
   "metadata": {
    "colab": {
     "base_uri": "https://localhost:8080/",
     "height": 327
    },
    "colab_type": "code",
    "id": "GzfvWUmDQit7",
    "outputId": "909f0eb3-1f7b-48bf-ecd9-9c778ce46d0d"
   },
   "outputs": [
    {
     "data": {
      "text/plain": [
       "<matplotlib.axes._subplots.AxesSubplot at 0x20ae76f7248>"
      ]
     },
     "execution_count": 426,
     "metadata": {},
     "output_type": "execute_result"
    },
    {
     "data": {
      "image/png": "[encoded data removed]",
      "text/plain": [
       "<Figure size 2160x720 with 2 Axes>"
      ]
     },
     "metadata": {
      "needs_background": "light"
     },
     "output_type": "display_data"
    }
   ],
   "source": [
    "plt.figure(figsize=(30, 10))\n",
    "plt.subplot(2, 3, 1)\n",
    "sns.distplot(df[\"Item_Weight\"])\n",
    "plt.subplot(2, 3, 2)\n",
    "sns.boxplot(df[\"Item_Weight\"])"
   ]
  },
  {
   "cell_type": "code",
   "execution_count": 427,
   "metadata": {
    "colab": {
     "base_uri": "https://localhost:8080/",
     "height": 225
    },
    "colab_type": "code",
    "id": "9Xk_RiT_Ql2J",
    "outputId": "50c7a32f-5e11-47d3-9531-28b7f8fab894"
   },
   "outputs": [
    {
     "data": {
      "text/plain": [
       "Outlet_Identifier\n",
       "OUT010    12.913153\n",
       "OUT013    13.006148\n",
       "OUT017    12.826668\n",
       "OUT018    12.873346\n",
       "OUT019          NaN\n",
       "OUT027          NaN\n",
       "OUT035    12.829349\n",
       "OUT045    12.649989\n",
       "OUT046    12.866801\n",
       "OUT049    12.917446\n",
       "Name: Item_Weight, dtype: float64"
      ]
     },
     "execution_count": 427,
     "metadata": {},
     "output_type": "execute_result"
    }
   ],
   "source": [
    "df.groupby('Outlet_Identifier')['Item_Weight'].mean()"
   ]
  },
  {
   "cell_type": "code",
   "execution_count": 428,
   "metadata": {
    "colab": {
     "base_uri": "https://localhost:8080/",
     "height": 225
    },
    "colab_type": "code",
    "id": "Mj88VmvVRhw-",
    "outputId": "0576af30-dc30-4715-fa41-a187e17d9be3"
   },
   "outputs": [
    {
     "data": {
      "text/plain": [
       "7      NaN\n",
       "18     NaN\n",
       "21     NaN\n",
       "23     NaN\n",
       "29     NaN\n",
       "        ..\n",
       "8485   NaN\n",
       "8487   NaN\n",
       "8488   NaN\n",
       "8490   NaN\n",
       "8504   NaN\n",
       "Name: Item_Weight, Length: 1463, dtype: float64"
      ]
     },
     "execution_count": 428,
     "metadata": {},
     "output_type": "execute_result"
    }
   ],
   "source": [
    "df.loc[(df.Outlet_Identifier=='OUT027') | (df.Outlet_Identifier=='OUT019') ,'Item_Weight']"
   ]
  },
  {
   "cell_type": "code",
   "execution_count": 429,
   "metadata": {
    "colab": {
     "base_uri": "https://localhost:8080/",
     "height": 225
    },
    "colab_type": "code",
    "id": "hb2NIX61TH46",
    "outputId": "5bc94519-cf7b-4756-8a20-b62396573d9c"
   },
   "outputs": [
    {
     "data": {
      "text/plain": [
       "23      Small\n",
       "29      Small\n",
       "49      Small\n",
       "59      Small\n",
       "63      Small\n",
       "        ...  \n",
       "8454    Small\n",
       "8458    Small\n",
       "8469    Small\n",
       "8480    Small\n",
       "8490    Small\n",
       "Name: Outlet_Size, Length: 528, dtype: object"
      ]
     },
     "execution_count": 429,
     "metadata": {},
     "output_type": "execute_result"
    }
   ],
   "source": [
    "df.loc[(df.Outlet_Identifier=='OUT019'),'Outlet_Size']"
   ]
  },
  {
   "cell_type": "code",
   "execution_count": 430,
   "metadata": {
    "colab": {
     "base_uri": "https://localhost:8080/",
     "height": 225
    },
    "colab_type": "code",
    "id": "xecSXV7mTkeJ",
    "outputId": "d3785671-1748-4466-ca4f-54988538f033"
   },
   "outputs": [
    {
     "data": {
      "text/plain": [
       "7       Medium\n",
       "18      Medium\n",
       "21      Medium\n",
       "36      Medium\n",
       "38      Medium\n",
       "         ...  \n",
       "8472    Medium\n",
       "8485    Medium\n",
       "8487    Medium\n",
       "8488    Medium\n",
       "8504    Medium\n",
       "Name: Outlet_Size, Length: 935, dtype: object"
      ]
     },
     "execution_count": 430,
     "metadata": {},
     "output_type": "execute_result"
    }
   ],
   "source": [
    "df.loc[(df.Outlet_Identifier=='OUT027'),'Outlet_Size']"
   ]
  },
  {
   "cell_type": "code",
   "execution_count": 431,
   "metadata": {
    "colab": {
     "base_uri": "https://localhost:8080/",
     "height": 104
    },
    "colab_type": "code",
    "id": "3fpisXVfTya5",
    "outputId": "12e198ef-c44c-4b0e-b39d-62189e2470f3"
   },
   "outputs": [
    {
     "data": {
      "text/plain": [
       "Outlet_Size\n",
       "High      13.006148\n",
       "Medium    12.829387\n",
       "Small     12.848075\n",
       "Name: Item_Weight, dtype: float64"
      ]
     },
     "execution_count": 431,
     "metadata": {},
     "output_type": "execute_result"
    }
   ],
   "source": [
    "df.groupby('Outlet_Size')['Item_Weight'].mean()"
   ]
  },
  {
   "cell_type": "code",
   "execution_count": 432,
   "metadata": {
    "colab": {},
    "colab_type": "code",
    "id": "YRdbgWAiUIGa"
   },
   "outputs": [],
   "source": [
    "df.loc[df.Outlet_Identifier=='OUT027','Item_Weight']=12.829387\n",
    "df.loc[df.Outlet_Identifier=='OUT019','Item_Weight']=12.848075"
   ]
  },
  {
   "cell_type": "code",
   "execution_count": 433,
   "metadata": {
    "colab": {
     "base_uri": "https://localhost:8080/",
     "height": 243
    },
    "colab_type": "code",
    "id": "dEnHLsKGXMii",
    "outputId": "32c31c6f-ff00-4532-fa59-2c07530a604c"
   },
   "outputs": [
    {
     "data": {
      "text/plain": [
       "Item_Identifier              0\n",
       "Item_Weight                  0\n",
       "Item_Fat_Content             0\n",
       "Item_Visibility              0\n",
       "Item_Type                    0\n",
       "Item_MRP                     0\n",
       "Outlet_Identifier            0\n",
       "Outlet_Establishment_Year    0\n",
       "Outlet_Size                  0\n",
       "Outlet_Location_Type         0\n",
       "Outlet_Type                  0\n",
       "Item_Outlet_Sales            0\n",
       "dtype: int64"
      ]
     },
     "execution_count": 433,
     "metadata": {},
     "output_type": "execute_result"
    }
   ],
   "source": [
    "df.isna().sum()"
   ]
  },
  {
   "cell_type": "code",
   "execution_count": 434,
   "metadata": {
    "colab": {
     "base_uri": "https://localhost:8080/",
     "height": 104
    },
    "colab_type": "code",
    "id": "uHqeS2pfXOcm",
    "outputId": "665f179c-492c-4885-8187-8f62f6f89f73"
   },
   "outputs": [
    {
     "data": {
      "text/plain": [
       "Index(['Item_Identifier', 'Item_Weight', 'Item_Fat_Content', 'Item_Visibility',\n",
       "       'Item_Type', 'Item_MRP', 'Outlet_Identifier',\n",
       "       'Outlet_Establishment_Year', 'Outlet_Size', 'Outlet_Location_Type',\n",
       "       'Outlet_Type', 'Item_Outlet_Sales'],\n",
       "      dtype='object')"
      ]
     },
     "execution_count": 434,
     "metadata": {},
     "output_type": "execute_result"
    }
   ],
   "source": [
    "df.columns"
   ]
  },
  {
   "cell_type": "code",
   "execution_count": 435,
   "metadata": {
    "colab": {
     "base_uri": "https://localhost:8080/",
     "height": 35
    },
    "colab_type": "code",
    "id": "fgQfa9YkXroc",
    "outputId": "19aa9da4-b324-49fb-cd74-510bfa5346a6"
   },
   "outputs": [
    {
     "data": {
      "text/plain": [
       "(8523, 12)"
      ]
     },
     "execution_count": 435,
     "metadata": {},
     "output_type": "execute_result"
    }
   ],
   "source": [
    "df.drop_duplicates(inplace=True)\n",
    "df.shape"
   ]
  },
  {
   "cell_type": "code",
   "execution_count": 436,
   "metadata": {
    "colab": {
     "base_uri": "https://localhost:8080/",
     "height": 225
    },
    "colab_type": "code",
    "id": "pS8QX5yfrLzn",
    "outputId": "f586a730-1deb-41cc-9212-4f76bd1efe2c"
   },
   "outputs": [
    {
     "data": {
      "text/plain": [
       "Item_Identifier              0\n",
       "Item_Weight                  0\n",
       "Item_Fat_Content             0\n",
       "Item_Visibility              0\n",
       "Item_Type                    0\n",
       "Item_MRP                     0\n",
       "Outlet_Identifier            0\n",
       "Outlet_Establishment_Year    0\n",
       "Outlet_Size                  0\n",
       "Outlet_Location_Type         0\n",
       "Outlet_Type                  0\n",
       "dtype: int64"
      ]
     },
     "execution_count": 436,
     "metadata": {},
     "output_type": "execute_result"
    }
   ],
   "source": [
    "test.loc[test.Outlet_Identifier=='OUT027','Item_Weight']=12.829387\n",
    "test.loc[test.Outlet_Identifier=='OUT019','Item_Weight']=12.848075\n",
    "test.Outlet_Size.fillna(df.Outlet_Size.mode()[0],inplace=True)\n",
    "test.isna().sum()"
   ]
  },
  {
   "cell_type": "code",
   "execution_count": 437,
   "metadata": {
    "colab": {
     "base_uri": "https://localhost:8080/",
     "height": 243
    },
    "colab_type": "code",
    "id": "m2BGOtTzYFHU",
    "outputId": "feca3312-b7c6-46ee-a89b-c25651c774f5"
   },
   "outputs": [
    {
     "data": {
      "text/plain": [
       "Item_Identifier              1559\n",
       "Item_Weight                   417\n",
       "Item_Fat_Content                5\n",
       "Item_Visibility              7880\n",
       "Item_Type                      16\n",
       "Item_MRP                     5938\n",
       "Outlet_Identifier              10\n",
       "Outlet_Establishment_Year       9\n",
       "Outlet_Size                     3\n",
       "Outlet_Location_Type            3\n",
       "Outlet_Type                     4\n",
       "Item_Outlet_Sales            3493\n",
       "dtype: int64"
      ]
     },
     "execution_count": 437,
     "metadata": {},
     "output_type": "execute_result"
    }
   ],
   "source": [
    "df.nunique()"
   ]
  },
  {
   "cell_type": "markdown",
   "metadata": {
    "colab_type": "text",
    "id": "9pmK4Og0VgVd"
   },
   "source": [
    "# EDA"
   ]
  },
  {
   "cell_type": "code",
   "execution_count": 438,
   "metadata": {
    "colab": {
     "base_uri": "https://localhost:8080/",
     "height": 301
    },
    "colab_type": "code",
    "id": "vxF0tTdaYHCV",
    "outputId": "403139bd-23c3-458a-80b4-359bb86229c5"
   },
   "outputs": [
    {
     "data": {
      "text/plain": [
       "<matplotlib.axes._subplots.AxesSubplot at 0x20ae787ec48>"
      ]
     },
     "execution_count": 438,
     "metadata": {},
     "output_type": "execute_result"
    },
    {
     "data": {
      "image/png": "[encoded data removed]",
      "text/plain": [
       "<Figure size 432x288 with 1 Axes>"
      ]
     },
     "metadata": {
      "needs_background": "light"
     },
     "output_type": "display_data"
    }
   ],
   "source": [
    "sns.barplot(x=df.Outlet_Location_Type,y=df.Item_Outlet_Sales)"
   ]
  },
  {
   "cell_type": "code",
   "execution_count": 439,
   "metadata": {
    "colab": {
     "base_uri": "https://localhost:8080/",
     "height": 355
    },
    "colab_type": "code",
    "id": "P944K7wKYeMP",
    "outputId": "36bcd3a7-cd81-4756-96e0-af3a27588049"
   },
   "outputs": [
    {
     "data": {
      "text/plain": [
       "<matplotlib.axes._subplots.AxesSubplot at 0x20aeba05888>"
      ]
     },
     "execution_count": 439,
     "metadata": {},
     "output_type": "execute_result"
    },
    {
     "data": {
      "image/png": "[encoded data removed]",
      "text/plain": [
       "<Figure size 720x360 with 1 Axes>"
      ]
     },
     "metadata": {
      "needs_background": "light"
     },
     "output_type": "display_data"
    }
   ],
   "source": [
    "plt.figure(figsize=(10,5))\n",
    "sns.barplot(x=df.Outlet_Type,y=df.Item_Outlet_Sales)"
   ]
  },
  {
   "cell_type": "code",
   "execution_count": 440,
   "metadata": {
    "colab": {
     "base_uri": "https://localhost:8080/",
     "height": 353
    },
    "colab_type": "code",
    "id": "YAN9hEURbLkY",
    "outputId": "fcaa0506-408b-476f-8069-37e2552f7683"
   },
   "outputs": [
    {
     "data": {
      "text/plain": [
       "<matplotlib.axes._subplots.AxesSubplot at 0x20aeba05e48>"
      ]
     },
     "execution_count": 440,
     "metadata": {},
     "output_type": "execute_result"
    },
    {
     "data": {
      "image/png": "[encoded data removed]",
      "text/plain": [
       "<Figure size 720x360 with 1 Axes>"
      ]
     },
     "metadata": {
      "needs_background": "light"
     },
     "output_type": "display_data"
    }
   ],
   "source": [
    "plt.figure(figsize=(10,5))\n",
    "sns.barplot(x=df.Outlet_Establishment_Year,y=df.Item_Outlet_Sales)"
   ]
  },
  {
   "cell_type": "code",
   "execution_count": 441,
   "metadata": {
    "colab": {
     "base_uri": "https://localhost:8080/",
     "height": 208
    },
    "colab_type": "code",
    "id": "bIA7zutZbvXP",
    "outputId": "cb06f1a0-bfe9-4389-f56d-5120c602a1c2"
   },
   "outputs": [
    {
     "data": {
      "text/plain": [
       "Outlet_Establishment_Year\n",
       "1985    9.0\n",
       "1987    5.0\n",
       "1997    4.0\n",
       "1998    1.0\n",
       "1999    7.0\n",
       "2002    3.0\n",
       "2004    8.0\n",
       "2007    6.0\n",
       "2009    2.0\n",
       "Name: Item_Outlet_Sales, dtype: float64"
      ]
     },
     "execution_count": 441,
     "metadata": {},
     "output_type": "execute_result"
    }
   ],
   "source": [
    "df.groupby('Outlet_Establishment_Year')['Item_Outlet_Sales'].mean().rank()"
   ]
  },
  {
   "cell_type": "code",
   "execution_count": 442,
   "metadata": {
    "colab": {
     "base_uri": "https://localhost:8080/",
     "height": 347
    },
    "colab_type": "code",
    "id": "oJn6sRCwcIbv",
    "outputId": "7776450a-d5f1-4af4-e8bc-bccbfa5dfa6d"
   },
   "outputs": [
    {
     "data": {
      "text/plain": [
       "<matplotlib.axes._subplots.AxesSubplot at 0x20ae76d9948>"
      ]
     },
     "execution_count": 442,
     "metadata": {},
     "output_type": "execute_result"
    },
    {
     "data": {
      "image/png": "[encoded data removed]",
      "text/plain": [
       "<Figure size 1440x360 with 1 Axes>"
      ]
     },
     "metadata": {
      "needs_background": "light"
     },
     "output_type": "display_data"
    }
   ],
   "source": [
    "plt.figure(figsize=(20,5))\n",
    "sns.barplot(x=df.Item_Type,y=df.Item_Outlet_Sales)"
   ]
  },
  {
   "cell_type": "code",
   "execution_count": 443,
   "metadata": {
    "colab": {
     "base_uri": "https://localhost:8080/",
     "height": 353
    },
    "colab_type": "code",
    "id": "PB3juNdbcrPb",
    "outputId": "6f270d94-949a-42d9-a395-8f6f5739158f"
   },
   "outputs": [
    {
     "data": {
      "text/plain": [
       "<matplotlib.axes._subplots.AxesSubplot at 0x20ae7694d48>"
      ]
     },
     "execution_count": 443,
     "metadata": {},
     "output_type": "execute_result"
    },
    {
     "data": {
      "image/png": "[encoded data removed]",
      "text/plain": [
       "<Figure size 720x360 with 1 Axes>"
      ]
     },
     "metadata": {
      "needs_background": "light"
     },
     "output_type": "display_data"
    }
   ],
   "source": [
    "plt.figure(figsize=(10,5))\n",
    "sns.barplot(x=df.Item_Fat_Content,y=df.Item_Outlet_Sales)"
   ]
  },
  {
   "cell_type": "code",
   "execution_count": 444,
   "metadata": {
    "colab": {
     "base_uri": "https://localhost:8080/",
     "height": 35
    },
    "colab_type": "code",
    "id": "PR2dWG2idmIA",
    "outputId": "1a33d2f4-d3a6-4e93-cf8d-5912864ab7ad"
   },
   "outputs": [
    {
     "data": {
      "text/plain": [
       "array(['Low Fat', 'Regular', 'low fat', 'LF', 'reg'], dtype=object)"
      ]
     },
     "execution_count": 444,
     "metadata": {},
     "output_type": "execute_result"
    }
   ],
   "source": [
    "df.Item_Fat_Content.unique()"
   ]
  },
  {
   "cell_type": "code",
   "execution_count": 445,
   "metadata": {
    "colab": {},
    "colab_type": "code",
    "id": "4kP9Zq9OeTPd"
   },
   "outputs": [],
   "source": [
    "df['Item_Fat_Content'].replace(\"low fat\",\"Low Fat\",inplace=True)\n",
    "df['Item_Fat_Content'].replace(\"LF\",\"Low Fat\",inplace=True)\n",
    "df['Item_Fat_Content'].replace(\"reg\",\"Regular\",inplace=True)\n",
    "\n",
    "test['Item_Fat_Content'].replace(\"low fat\",\"Low Fat\",inplace=True)\n",
    "test['Item_Fat_Content'].replace(\"LF\",\"Low Fat\",inplace=True)\n",
    "test['Item_Fat_Content'].replace(\"reg\",\"Regular\",inplace=True)"
   ]
  },
  {
   "cell_type": "code",
   "execution_count": 446,
   "metadata": {
    "colab": {
     "base_uri": "https://localhost:8080/",
     "height": 353
    },
    "colab_type": "code",
    "id": "XPAyN3YAe4kc",
    "outputId": "d93b7901-8e5f-4540-c8c3-6ef29af62e98"
   },
   "outputs": [
    {
     "data": {
      "text/plain": [
       "<matplotlib.axes._subplots.AxesSubplot at 0x20aebb7c948>"
      ]
     },
     "execution_count": 446,
     "metadata": {},
     "output_type": "execute_result"
    },
    {
     "data": {
      "image/png": "[encoded data removed]",
      "text/plain": [
       "<Figure size 720x360 with 1 Axes>"
      ]
     },
     "metadata": {
      "needs_background": "light"
     },
     "output_type": "display_data"
    }
   ],
   "source": [
    "plt.figure(figsize=(10,5))\n",
    "sns.barplot(x=df.Item_Fat_Content,y=df.Item_Outlet_Sales)"
   ]
  },
  {
   "cell_type": "code",
   "execution_count": 447,
   "metadata": {
    "colab": {
     "base_uri": "https://localhost:8080/",
     "height": 347
    },
    "colab_type": "code",
    "id": "LHhvDfX5e6GS",
    "outputId": "903d3450-f3f0-4263-f10b-23ed88e0a30b"
   },
   "outputs": [
    {
     "data": {
      "text/plain": [
       "<matplotlib.axes._subplots.AxesSubplot at 0x20aebbcdc48>"
      ]
     },
     "execution_count": 447,
     "metadata": {},
     "output_type": "execute_result"
    },
    {
     "data": {
      "image/png": "[encoded data removed]",
      "text/plain": [
       "<Figure size 1440x360 with 1 Axes>"
      ]
     },
     "metadata": {
      "needs_background": "light"
     },
     "output_type": "display_data"
    }
   ],
   "source": [
    "plt.figure(figsize=(20,5))\n",
    "sns.lineplot(x=df.Item_Weight,y=df.Item_Outlet_Sales)"
   ]
  },
  {
   "cell_type": "code",
   "execution_count": 448,
   "metadata": {
    "colab": {
     "base_uri": "https://localhost:8080/",
     "height": 353
    },
    "colab_type": "code",
    "id": "CFz6geCMhjew",
    "outputId": "61a2d157-0dc9-4a0f-891c-668169bf0293"
   },
   "outputs": [
    {
     "data": {
      "text/plain": [
       "<matplotlib.axes._subplots.AxesSubplot at 0x20aebbc8648>"
      ]
     },
     "execution_count": 448,
     "metadata": {},
     "output_type": "execute_result"
    },
    {
     "data": {
      "image/png": "[encoded data removed]",
      "text/plain": [
       "<Figure size 1080x360 with 1 Axes>"
      ]
     },
     "metadata": {
      "needs_background": "light"
     },
     "output_type": "display_data"
    }
   ],
   "source": [
    "plt.figure(figsize=(15,5))\n",
    "sns.barplot(x=df.Outlet_Identifier,y=df.Item_Outlet_Sales)"
   ]
  },
  {
   "cell_type": "code",
   "execution_count": 449,
   "metadata": {
    "colab": {
     "base_uri": "https://localhost:8080/",
     "height": 353
    },
    "colab_type": "code",
    "id": "uLxbkKN3ilBN",
    "outputId": "c6014b01-c393-4ee1-e86f-94c6096c19ef"
   },
   "outputs": [
    {
     "data": {
      "text/plain": [
       "<matplotlib.axes._subplots.AxesSubplot at 0x20aebce5a88>"
      ]
     },
     "execution_count": 449,
     "metadata": {},
     "output_type": "execute_result"
    },
    {
     "data": {
      "image/png": "[encoded data removed]",
      "text/plain": [
       "<Figure size 360x360 with 1 Axes>"
      ]
     },
     "metadata": {
      "needs_background": "light"
     },
     "output_type": "display_data"
    }
   ],
   "source": [
    "plt.figure(figsize=(5,5))\n",
    "sns.barplot(x=df.Outlet_Size,y=df.Item_Outlet_Sales)"
   ]
  },
  {
   "cell_type": "code",
   "execution_count": 450,
   "metadata": {
    "colab": {
     "base_uri": "https://localhost:8080/",
     "height": 104
    },
    "colab_type": "code",
    "id": "Q5AqSQRSi0T0",
    "outputId": "4b42b7ff-4972-4ad2-cc3a-b36a33758073"
   },
   "outputs": [
    {
     "data": {
      "text/plain": [
       "Index(['Item_Identifier', 'Item_Weight', 'Item_Fat_Content', 'Item_Visibility',\n",
       "       'Item_Type', 'Item_MRP', 'Outlet_Identifier',\n",
       "       'Outlet_Establishment_Year', 'Outlet_Size', 'Outlet_Location_Type',\n",
       "       'Outlet_Type', 'Item_Outlet_Sales'],\n",
       "      dtype='object')"
      ]
     },
     "execution_count": 450,
     "metadata": {},
     "output_type": "execute_result"
    }
   ],
   "source": [
    "df.columns"
   ]
  },
  {
   "cell_type": "code",
   "execution_count": 451,
   "metadata": {
    "colab": {
     "base_uri": "https://localhost:8080/",
     "height": 327
    },
    "colab_type": "code",
    "id": "Q6rM2vrJkKzn",
    "outputId": "747e2f90-efba-4eb5-e0c0-9011925675e9"
   },
   "outputs": [
    {
     "data": {
      "text/plain": [
       "<matplotlib.axes._subplots.AxesSubplot at 0x20aec1718c8>"
      ]
     },
     "execution_count": 451,
     "metadata": {},
     "output_type": "execute_result"
    },
    {
     "data": {
      "image/png": "[encoded data removed]",
      "text/plain": [
       "<Figure size 1800x720 with 2 Axes>"
      ]
     },
     "metadata": {
      "needs_background": "light"
     },
     "output_type": "display_data"
    }
   ],
   "source": [
    "plt.figure(figsize=(25, 10))\n",
    "plt.subplot(2, 3, 1)\n",
    "sns.distplot(df[\"Item_Weight\"])\n",
    "plt.subplot(2, 3, 2)\n",
    "sns.boxplot(df[\"Item_Weight\"])"
   ]
  },
  {
   "cell_type": "code",
   "execution_count": 452,
   "metadata": {
    "colab": {
     "base_uri": "https://localhost:8080/",
     "height": 327
    },
    "colab_type": "code",
    "id": "Y7j7uogekd88",
    "outputId": "9feae769-6abe-4808-ee9c-accc1e8ccf5a"
   },
   "outputs": [
    {
     "data": {
      "text/plain": [
       "<matplotlib.axes._subplots.AxesSubplot at 0x20aec280b08>"
      ]
     },
     "execution_count": 452,
     "metadata": {},
     "output_type": "execute_result"
    },
    {
     "data": {
      "image/png": "[encoded data removed]",
      "text/plain": [
       "<Figure size 1800x720 with 2 Axes>"
      ]
     },
     "metadata": {
      "needs_background": "light"
     },
     "output_type": "display_data"
    }
   ],
   "source": [
    "plt.figure(figsize=(25, 10))\n",
    "plt.subplot(2, 3, 1)\n",
    "sns.distplot(df[\"Item_Visibility\"])\n",
    "plt.subplot(2, 3, 2)\n",
    "sns.boxplot(df[\"Item_Visibility\"])"
   ]
  },
  {
   "cell_type": "code",
   "execution_count": 453,
   "metadata": {
    "colab": {
     "base_uri": "https://localhost:8080/",
     "height": 327
    },
    "colab_type": "code",
    "id": "iR-WMo7Clabp",
    "outputId": "378cfd29-e3d1-41d9-8ed6-c50df3b1f78c"
   },
   "outputs": [
    {
     "data": {
      "text/plain": [
       "<matplotlib.axes._subplots.AxesSubplot at 0x20aec682588>"
      ]
     },
     "execution_count": 453,
     "metadata": {},
     "output_type": "execute_result"
    },
    {
     "data": {
      "image/png": "[encoded data removed]",
      "text/plain": [
       "<Figure size 1800x720 with 2 Axes>"
      ]
     },
     "metadata": {
      "needs_background": "light"
     },
     "output_type": "display_data"
    }
   ],
   "source": [
    "plt.figure(figsize=(25, 10))\n",
    "plt.subplot(2, 3, 1)\n",
    "sns.distplot(df[\"Item_MRP\"])\n",
    "plt.subplot(2, 3, 2)\n",
    "sns.boxplot(df[\"Item_MRP\"])"
   ]
  },
  {
   "cell_type": "code",
   "execution_count": 454,
   "metadata": {
    "colab": {
     "base_uri": "https://localhost:8080/",
     "height": 465
    },
    "colab_type": "code",
    "id": "WQqjDKAokn6g",
    "outputId": "7db1a393-e312-4f37-8183-0c709d1cd19b"
   },
   "outputs": [
    {
     "data": {
      "text/plain": [
       "<matplotlib.axes._subplots.AxesSubplot at 0x20aec770188>"
      ]
     },
     "execution_count": 454,
     "metadata": {},
     "output_type": "execute_result"
    },
    {
     "data": {
      "image/png": "[encoded data removed]",
      "text/plain": [
       "<Figure size 360x360 with 2 Axes>"
      ]
     },
     "metadata": {
      "needs_background": "light"
     },
     "output_type": "display_data"
    }
   ],
   "source": [
    "plt.figure(figsize=(5,5))\n",
    "sns.heatmap(data=df.corr(),annot=True)"
   ]
  },
  {
   "cell_type": "code",
   "execution_count": 455,
   "metadata": {
    "colab": {
     "base_uri": "https://localhost:8080/",
     "height": 104
    },
    "colab_type": "code",
    "id": "WSUdedZnlHVk",
    "outputId": "9680a94a-6f14-4e44-912c-3283795be8ce"
   },
   "outputs": [
    {
     "data": {
      "text/plain": [
       "Index(['Item_Identifier', 'Item_Weight', 'Item_Fat_Content', 'Item_Visibility',\n",
       "       'Item_Type', 'Item_MRP', 'Outlet_Identifier',\n",
       "       'Outlet_Establishment_Year', 'Outlet_Size', 'Outlet_Location_Type',\n",
       "       'Outlet_Type', 'Item_Outlet_Sales'],\n",
       "      dtype='object')"
      ]
     },
     "execution_count": 455,
     "metadata": {},
     "output_type": "execute_result"
    }
   ],
   "source": [
    "df.columns"
   ]
  },
  {
   "cell_type": "markdown",
   "metadata": {
    "colab_type": "text",
    "id": "hXaiiLmvVoUH"
   },
   "source": [
    "# TRAIN-VALIDATION SPLIT"
   ]
  },
  {
   "cell_type": "code",
   "execution_count": 456,
   "metadata": {
    "colab": {
     "base_uri": "https://localhost:8080/",
     "height": 35
    },
    "colab_type": "code",
    "id": "k-TfFhdAmDK0",
    "outputId": "68d6095d-c0c9-4fd0-9f1b-3e5e88456763"
   },
   "outputs": [
    {
     "data": {
      "text/plain": [
       "((5966, 12), (2557, 12))"
      ]
     },
     "execution_count": 456,
     "metadata": {},
     "output_type": "execute_result"
    }
   ],
   "source": [
    "from sklearn.model_selection import train_test_split\n",
    "train, localtest = train_test_split(\n",
    "    df,\n",
    "    test_size=0.3,\n",
    "    random_state=0,\n",
    "      )\n",
    "\n",
    "train.shape, localtest.shape"
   ]
  },
  {
   "cell_type": "markdown",
   "metadata": {
    "colab_type": "text",
    "id": "54gbYWLTVyHG"
   },
   "source": [
    "# FEATURE ENGINEERING"
   ]
  },
  {
   "cell_type": "code",
   "execution_count": 457,
   "metadata": {
    "colab": {},
    "colab_type": "code",
    "id": "mnvivKclza2n"
   },
   "outputs": [],
   "source": [
    "import datetime\n",
    "Today = datetime.datetime.now()\n",
    "\n",
    "train['Outlet_Age'] = Today.year - train['Outlet_Establishment_Year']\n",
    "localtest['Outlet_Age'] = Today.year - localtest['Outlet_Establishment_Year']\n",
    "test['Outlet_Age'] = Today.year - test['Outlet_Establishment_Year']\n",
    "\n",
    "train.drop('Outlet_Establishment_Year',axis=1,inplace=True)\n",
    "localtest.drop('Outlet_Establishment_Year',axis=1,inplace=True)\n",
    "test.drop('Outlet_Establishment_Year',axis=1,inplace=True)"
   ]
  },
  {
   "cell_type": "code",
   "execution_count": 458,
   "metadata": {
    "colab": {
     "base_uri": "https://localhost:8080/",
     "height": 907
    },
    "colab_type": "code",
    "id": "396YNgrjtwVz",
    "outputId": "266349f5-b0e9-4c61-914c-c94d6173a13a"
   },
   "outputs": [
    {
     "data": {
      "text/html": [
       "<div>\n",
       "<style scoped>\n",
       "    .dataframe tbody tr th:only-of-type {\n",
       "        vertical-align: middle;\n",
       "    }\n",
       "\n",
       "    .dataframe tbody tr th {\n",
       "        vertical-align: top;\n",
       "    }\n",
       "\n",
       "    .dataframe thead th {\n",
       "        text-align: right;\n",
       "    }\n",
       "</style>\n",
       "<table border=\"1\" class=\"dataframe\">\n",
       "  <thead>\n",
       "    <tr style=\"text-align: right;\">\n",
       "      <th></th>\n",
       "      <th>Item_Type</th>\n",
       "      <th>Item_Fat_Content</th>\n",
       "      <th>Item_Fat_Mean</th>\n",
       "    </tr>\n",
       "  </thead>\n",
       "  <tbody>\n",
       "    <tr>\n",
       "      <th>0</th>\n",
       "      <td>Baking Goods</td>\n",
       "      <td>Low Fat</td>\n",
       "      <td>1814.281741</td>\n",
       "    </tr>\n",
       "    <tr>\n",
       "      <th>1</th>\n",
       "      <td>Baking Goods</td>\n",
       "      <td>Regular</td>\n",
       "      <td>2153.809468</td>\n",
       "    </tr>\n",
       "    <tr>\n",
       "      <th>2</th>\n",
       "      <td>Breads</td>\n",
       "      <td>Low Fat</td>\n",
       "      <td>2116.872554</td>\n",
       "    </tr>\n",
       "    <tr>\n",
       "      <th>3</th>\n",
       "      <td>Breads</td>\n",
       "      <td>Regular</td>\n",
       "      <td>2275.215585</td>\n",
       "    </tr>\n",
       "    <tr>\n",
       "      <th>4</th>\n",
       "      <td>Breakfast</td>\n",
       "      <td>Low Fat</td>\n",
       "      <td>2373.621387</td>\n",
       "    </tr>\n",
       "    <tr>\n",
       "      <th>5</th>\n",
       "      <td>Breakfast</td>\n",
       "      <td>Regular</td>\n",
       "      <td>1902.658077</td>\n",
       "    </tr>\n",
       "    <tr>\n",
       "      <th>6</th>\n",
       "      <td>Canned</td>\n",
       "      <td>Low Fat</td>\n",
       "      <td>2200.471707</td>\n",
       "    </tr>\n",
       "    <tr>\n",
       "      <th>7</th>\n",
       "      <td>Canned</td>\n",
       "      <td>Regular</td>\n",
       "      <td>2295.902324</td>\n",
       "    </tr>\n",
       "    <tr>\n",
       "      <th>8</th>\n",
       "      <td>Dairy</td>\n",
       "      <td>Low Fat</td>\n",
       "      <td>2124.102206</td>\n",
       "    </tr>\n",
       "    <tr>\n",
       "      <th>9</th>\n",
       "      <td>Dairy</td>\n",
       "      <td>Regular</td>\n",
       "      <td>2255.719719</td>\n",
       "    </tr>\n",
       "    <tr>\n",
       "      <th>10</th>\n",
       "      <td>Frozen Foods</td>\n",
       "      <td>Low Fat</td>\n",
       "      <td>2165.240595</td>\n",
       "    </tr>\n",
       "    <tr>\n",
       "      <th>11</th>\n",
       "      <td>Frozen Foods</td>\n",
       "      <td>Regular</td>\n",
       "      <td>2132.599013</td>\n",
       "    </tr>\n",
       "    <tr>\n",
       "      <th>12</th>\n",
       "      <td>Fruits and Vegetables</td>\n",
       "      <td>Low Fat</td>\n",
       "      <td>2108.682155</td>\n",
       "    </tr>\n",
       "    <tr>\n",
       "      <th>13</th>\n",
       "      <td>Fruits and Vegetables</td>\n",
       "      <td>Regular</td>\n",
       "      <td>2295.008060</td>\n",
       "    </tr>\n",
       "    <tr>\n",
       "      <th>14</th>\n",
       "      <td>Hard Drinks</td>\n",
       "      <td>Low Fat</td>\n",
       "      <td>2171.747128</td>\n",
       "    </tr>\n",
       "    <tr>\n",
       "      <th>15</th>\n",
       "      <td>Health and Hygiene</td>\n",
       "      <td>Low Fat</td>\n",
       "      <td>2021.375846</td>\n",
       "    </tr>\n",
       "    <tr>\n",
       "      <th>16</th>\n",
       "      <td>Household</td>\n",
       "      <td>Low Fat</td>\n",
       "      <td>2263.643850</td>\n",
       "    </tr>\n",
       "    <tr>\n",
       "      <th>17</th>\n",
       "      <td>Meat</td>\n",
       "      <td>Low Fat</td>\n",
       "      <td>1918.856906</td>\n",
       "    </tr>\n",
       "    <tr>\n",
       "      <th>18</th>\n",
       "      <td>Meat</td>\n",
       "      <td>Regular</td>\n",
       "      <td>2289.793340</td>\n",
       "    </tr>\n",
       "    <tr>\n",
       "      <th>19</th>\n",
       "      <td>Others</td>\n",
       "      <td>Low Fat</td>\n",
       "      <td>1854.323084</td>\n",
       "    </tr>\n",
       "    <tr>\n",
       "      <th>20</th>\n",
       "      <td>Seafood</td>\n",
       "      <td>Low Fat</td>\n",
       "      <td>1685.472700</td>\n",
       "    </tr>\n",
       "    <tr>\n",
       "      <th>21</th>\n",
       "      <td>Seafood</td>\n",
       "      <td>Regular</td>\n",
       "      <td>3267.956653</td>\n",
       "    </tr>\n",
       "    <tr>\n",
       "      <th>22</th>\n",
       "      <td>Snack Foods</td>\n",
       "      <td>Low Fat</td>\n",
       "      <td>2382.681980</td>\n",
       "    </tr>\n",
       "    <tr>\n",
       "      <th>23</th>\n",
       "      <td>Snack Foods</td>\n",
       "      <td>Regular</td>\n",
       "      <td>2088.458613</td>\n",
       "    </tr>\n",
       "    <tr>\n",
       "      <th>24</th>\n",
       "      <td>Soft Drinks</td>\n",
       "      <td>Low Fat</td>\n",
       "      <td>2005.845438</td>\n",
       "    </tr>\n",
       "    <tr>\n",
       "      <th>25</th>\n",
       "      <td>Soft Drinks</td>\n",
       "      <td>Regular</td>\n",
       "      <td>2005.990125</td>\n",
       "    </tr>\n",
       "    <tr>\n",
       "      <th>26</th>\n",
       "      <td>Starchy Foods</td>\n",
       "      <td>Low Fat</td>\n",
       "      <td>2568.204607</td>\n",
       "    </tr>\n",
       "    <tr>\n",
       "      <th>27</th>\n",
       "      <td>Starchy Foods</td>\n",
       "      <td>Regular</td>\n",
       "      <td>2109.384665</td>\n",
       "    </tr>\n",
       "  </tbody>\n",
       "</table>\n",
       "</div>"
      ],
      "text/plain": [
       "                Item_Type Item_Fat_Content  Item_Fat_Mean\n",
       "0            Baking Goods          Low Fat    1814.281741\n",
       "1            Baking Goods          Regular    2153.809468\n",
       "2                  Breads          Low Fat    2116.872554\n",
       "3                  Breads          Regular    2275.215585\n",
       "4               Breakfast          Low Fat    2373.621387\n",
       "5               Breakfast          Regular    1902.658077\n",
       "6                  Canned          Low Fat    2200.471707\n",
       "7                  Canned          Regular    2295.902324\n",
       "8                   Dairy          Low Fat    2124.102206\n",
       "9                   Dairy          Regular    2255.719719\n",
       "10           Frozen Foods          Low Fat    2165.240595\n",
       "11           Frozen Foods          Regular    2132.599013\n",
       "12  Fruits and Vegetables          Low Fat    2108.682155\n",
       "13  Fruits and Vegetables          Regular    2295.008060\n",
       "14            Hard Drinks          Low Fat    2171.747128\n",
       "15     Health and Hygiene          Low Fat    2021.375846\n",
       "16              Household          Low Fat    2263.643850\n",
       "17                   Meat          Low Fat    1918.856906\n",
       "18                   Meat          Regular    2289.793340\n",
       "19                 Others          Low Fat    1854.323084\n",
       "20                Seafood          Low Fat    1685.472700\n",
       "21                Seafood          Regular    3267.956653\n",
       "22            Snack Foods          Low Fat    2382.681980\n",
       "23            Snack Foods          Regular    2088.458613\n",
       "24            Soft Drinks          Low Fat    2005.845438\n",
       "25            Soft Drinks          Regular    2005.990125\n",
       "26          Starchy Foods          Low Fat    2568.204607\n",
       "27          Starchy Foods          Regular    2109.384665"
      ]
     },
     "execution_count": 458,
     "metadata": {},
     "output_type": "execute_result"
    }
   ],
   "source": [
    "lookup=train.groupby(['Item_Type','Item_Fat_Content'])['Item_Outlet_Sales'].agg(['mean']).reset_index()\n",
    "lookup=lookup.rename(columns={'mean':'Item_Fat_Mean'})\n",
    "lookup"
   ]
  },
  {
   "cell_type": "code",
   "execution_count": 459,
   "metadata": {
    "colab": {},
    "colab_type": "code",
    "id": "f8gJhQfDwIl3"
   },
   "outputs": [],
   "source": [
    "train=pd.merge(train,lookup,how='left',left_on=['Item_Type','Item_Fat_Content'],right_on=['Item_Type','Item_Fat_Content'])\n",
    "localtest=pd.merge(localtest,lookup,how='left',left_on=['Item_Type','Item_Fat_Content'],right_on=['Item_Type','Item_Fat_Content'])\n",
    "test=pd.merge(test,lookup,how='left',left_on=['Item_Type','Item_Fat_Content'],right_on=['Item_Type','Item_Fat_Content'])"
   ]
  },
  {
   "cell_type": "code",
   "execution_count": 460,
   "metadata": {
    "colab": {},
    "colab_type": "code",
    "id": "K3cJXkHQsvMC"
   },
   "outputs": [],
   "source": [
    "item_type_dict=train.groupby('Item_Type')['Item_Outlet_Sales'].mean().to_dict()\n",
    "train['Item_Type']=train['Item_Type'].map(item_type_dict)\n",
    "localtest['Item_Type']=localtest['Item_Type'].map(item_type_dict)\n",
    "test['Item_Type']=test['Item_Type'].map(item_type_dict)"
   ]
  },
  {
   "cell_type": "code",
   "execution_count": 461,
   "metadata": {
    "colab": {},
    "colab_type": "code",
    "id": "cemGR6YztEke"
   },
   "outputs": [],
   "source": [
    "outlet_sales_mean_dict=train.groupby('Outlet_Identifier')['Item_Outlet_Sales'].mean().to_dict()\n",
    "train['Outlet_Saleswise_Mean']=train['Outlet_Identifier'].map(outlet_sales_mean_dict)\n",
    "localtest['Outlet_Saleswise_Mean']=localtest['Outlet_Identifier'].map(outlet_sales_mean_dict)\n",
    "test['Outlet_Saleswise_Mean']=test['Outlet_Identifier'].map(outlet_sales_mean_dict)"
   ]
  },
  {
   "cell_type": "code",
   "execution_count": 462,
   "metadata": {
    "colab": {},
    "colab_type": "code",
    "id": "6pLfbZcHte0w"
   },
   "outputs": [
    {
     "data": {
      "text/html": [
       "<div>\n",
       "<style scoped>\n",
       "    .dataframe tbody tr th:only-of-type {\n",
       "        vertical-align: middle;\n",
       "    }\n",
       "\n",
       "    .dataframe tbody tr th {\n",
       "        vertical-align: top;\n",
       "    }\n",
       "\n",
       "    .dataframe thead th {\n",
       "        text-align: right;\n",
       "    }\n",
       "</style>\n",
       "<table border=\"1\" class=\"dataframe\">\n",
       "  <thead>\n",
       "    <tr style=\"text-align: right;\">\n",
       "      <th></th>\n",
       "      <th>Outlet_Size</th>\n",
       "      <th>Outlet_Type</th>\n",
       "      <th>Outlet_Size_Type_Mean</th>\n",
       "    </tr>\n",
       "  </thead>\n",
       "  <tbody>\n",
       "    <tr>\n",
       "      <th>0</th>\n",
       "      <td>High</td>\n",
       "      <td>Supermarket Type1</td>\n",
       "      <td>2276.064998</td>\n",
       "    </tr>\n",
       "    <tr>\n",
       "      <th>1</th>\n",
       "      <td>Medium</td>\n",
       "      <td>Grocery Store</td>\n",
       "      <td>335.423847</td>\n",
       "    </tr>\n",
       "    <tr>\n",
       "      <th>2</th>\n",
       "      <td>Medium</td>\n",
       "      <td>Supermarket Type1</td>\n",
       "      <td>2303.494714</td>\n",
       "    </tr>\n",
       "    <tr>\n",
       "      <th>3</th>\n",
       "      <td>Medium</td>\n",
       "      <td>Supermarket Type2</td>\n",
       "      <td>1972.748251</td>\n",
       "    </tr>\n",
       "    <tr>\n",
       "      <th>4</th>\n",
       "      <td>Medium</td>\n",
       "      <td>Supermarket Type3</td>\n",
       "      <td>3663.008639</td>\n",
       "    </tr>\n",
       "    <tr>\n",
       "      <th>5</th>\n",
       "      <td>Small</td>\n",
       "      <td>Grocery Store</td>\n",
       "      <td>344.448863</td>\n",
       "    </tr>\n",
       "    <tr>\n",
       "      <th>6</th>\n",
       "      <td>Small</td>\n",
       "      <td>Supermarket Type1</td>\n",
       "      <td>2330.678284</td>\n",
       "    </tr>\n",
       "  </tbody>\n",
       "</table>\n",
       "</div>"
      ],
      "text/plain": [
       "  Outlet_Size        Outlet_Type  Outlet_Size_Type_Mean\n",
       "0        High  Supermarket Type1            2276.064998\n",
       "1      Medium      Grocery Store             335.423847\n",
       "2      Medium  Supermarket Type1            2303.494714\n",
       "3      Medium  Supermarket Type2            1972.748251\n",
       "4      Medium  Supermarket Type3            3663.008639\n",
       "5       Small      Grocery Store             344.448863\n",
       "6       Small  Supermarket Type1            2330.678284"
      ]
     },
     "execution_count": 462,
     "metadata": {},
     "output_type": "execute_result"
    }
   ],
   "source": [
    "lookup2=train.groupby(['Outlet_Size','Outlet_Type'])['Item_Outlet_Sales'].agg(['mean']).reset_index()\n",
    "lookup2=lookup2.rename(columns={'mean':'Outlet_Size_Type_Mean'})\n",
    "lookup2"
   ]
  },
  {
   "cell_type": "code",
   "execution_count": 463,
   "metadata": {},
   "outputs": [],
   "source": [
    "train=pd.merge(train,lookup2,how='left',left_on=['Outlet_Size','Outlet_Type'],right_on=['Outlet_Size','Outlet_Type'])\n",
    "localtest=pd.merge(localtest,lookup2,how='left',left_on=['Outlet_Size','Outlet_Type'],right_on=['Outlet_Size','Outlet_Type'])\n",
    "test=pd.merge(test,lookup2,how='left',left_on=['Outlet_Size','Outlet_Type'],right_on=['Outlet_Size','Outlet_Type'])"
   ]
  },
  {
   "cell_type": "code",
   "execution_count": 464,
   "metadata": {},
   "outputs": [
    {
     "data": {
      "text/html": [
       "<div>\n",
       "<style scoped>\n",
       "    .dataframe tbody tr th:only-of-type {\n",
       "        vertical-align: middle;\n",
       "    }\n",
       "\n",
       "    .dataframe tbody tr th {\n",
       "        vertical-align: top;\n",
       "    }\n",
       "\n",
       "    .dataframe thead th {\n",
       "        text-align: right;\n",
       "    }\n",
       "</style>\n",
       "<table border=\"1\" class=\"dataframe\">\n",
       "  <thead>\n",
       "    <tr style=\"text-align: right;\">\n",
       "      <th></th>\n",
       "      <th>Item_Identifier</th>\n",
       "      <th>Item_Weight</th>\n",
       "      <th>Item_Fat_Content</th>\n",
       "      <th>Item_Visibility</th>\n",
       "      <th>Item_Type</th>\n",
       "      <th>Item_MRP</th>\n",
       "      <th>Outlet_Identifier</th>\n",
       "      <th>Outlet_Size</th>\n",
       "      <th>Outlet_Location_Type</th>\n",
       "      <th>Outlet_Type</th>\n",
       "      <th>Item_Outlet_Sales</th>\n",
       "      <th>Outlet_Age</th>\n",
       "      <th>Item_Fat_Mean</th>\n",
       "      <th>Outlet_Saleswise_Mean</th>\n",
       "      <th>Outlet_Size_Type_Mean</th>\n",
       "    </tr>\n",
       "  </thead>\n",
       "  <tbody>\n",
       "    <tr>\n",
       "      <th>0</th>\n",
       "      <td>FDN33</td>\n",
       "      <td>6.305000</td>\n",
       "      <td>Regular</td>\n",
       "      <td>0.123116</td>\n",
       "      <td>2262.239666</td>\n",
       "      <td>95.6436</td>\n",
       "      <td>OUT046</td>\n",
       "      <td>Small</td>\n",
       "      <td>Tier 1</td>\n",
       "      <td>Supermarket Type1</td>\n",
       "      <td>661.8052</td>\n",
       "      <td>23</td>\n",
       "      <td>2088.458613</td>\n",
       "      <td>2261.483146</td>\n",
       "      <td>2330.678284</td>\n",
       "    </tr>\n",
       "    <tr>\n",
       "      <th>1</th>\n",
       "      <td>FDY31</td>\n",
       "      <td>5.980000</td>\n",
       "      <td>Low Fat</td>\n",
       "      <td>0.043809</td>\n",
       "      <td>2203.242015</td>\n",
       "      <td>146.8418</td>\n",
       "      <td>OUT017</td>\n",
       "      <td>Medium</td>\n",
       "      <td>Tier 2</td>\n",
       "      <td>Supermarket Type1</td>\n",
       "      <td>1765.7016</td>\n",
       "      <td>13</td>\n",
       "      <td>2108.682155</td>\n",
       "      <td>2332.127409</td>\n",
       "      <td>2303.494714</td>\n",
       "    </tr>\n",
       "    <tr>\n",
       "      <th>2</th>\n",
       "      <td>NCH54</td>\n",
       "      <td>12.829387</td>\n",
       "      <td>Low Fat</td>\n",
       "      <td>0.072317</td>\n",
       "      <td>2263.643850</td>\n",
       "      <td>160.7920</td>\n",
       "      <td>OUT027</td>\n",
       "      <td>Medium</td>\n",
       "      <td>Tier 3</td>\n",
       "      <td>Supermarket Type3</td>\n",
       "      <td>3675.2160</td>\n",
       "      <td>35</td>\n",
       "      <td>2263.643850</td>\n",
       "      <td>3663.008639</td>\n",
       "      <td>3663.008639</td>\n",
       "    </tr>\n",
       "    <tr>\n",
       "      <th>3</th>\n",
       "      <td>FDY15</td>\n",
       "      <td>12.848075</td>\n",
       "      <td>Regular</td>\n",
       "      <td>0.299098</td>\n",
       "      <td>2176.137036</td>\n",
       "      <td>157.8630</td>\n",
       "      <td>OUT019</td>\n",
       "      <td>Small</td>\n",
       "      <td>Tier 1</td>\n",
       "      <td>Grocery Store</td>\n",
       "      <td>469.3890</td>\n",
       "      <td>35</td>\n",
       "      <td>2255.719719</td>\n",
       "      <td>344.448863</td>\n",
       "      <td>344.448863</td>\n",
       "    </tr>\n",
       "    <tr>\n",
       "      <th>4</th>\n",
       "      <td>NCT30</td>\n",
       "      <td>9.100000</td>\n",
       "      <td>Low Fat</td>\n",
       "      <td>0.080278</td>\n",
       "      <td>2263.643850</td>\n",
       "      <td>47.2718</td>\n",
       "      <td>OUT035</td>\n",
       "      <td>Small</td>\n",
       "      <td>Tier 2</td>\n",
       "      <td>Supermarket Type1</td>\n",
       "      <td>850.8924</td>\n",
       "      <td>16</td>\n",
       "      <td>2263.643850</td>\n",
       "      <td>2405.923872</td>\n",
       "      <td>2330.678284</td>\n",
       "    </tr>\n",
       "  </tbody>\n",
       "</table>\n",
       "</div>"
      ],
      "text/plain": [
       "  Item_Identifier  Item_Weight Item_Fat_Content  Item_Visibility    Item_Type  \\\n",
       "0           FDN33     6.305000          Regular         0.123116  2262.239666   \n",
       "1           FDY31     5.980000          Low Fat         0.043809  2203.242015   \n",
       "2           NCH54    12.829387          Low Fat         0.072317  2263.643850   \n",
       "3           FDY15    12.848075          Regular         0.299098  2176.137036   \n",
       "4           NCT30     9.100000          Low Fat         0.080278  2263.643850   \n",
       "\n",
       "   Item_MRP Outlet_Identifier Outlet_Size Outlet_Location_Type  \\\n",
       "0   95.6436            OUT046       Small               Tier 1   \n",
       "1  146.8418            OUT017      Medium               Tier 2   \n",
       "2  160.7920            OUT027      Medium               Tier 3   \n",
       "3  157.8630            OUT019       Small               Tier 1   \n",
       "4   47.2718            OUT035       Small               Tier 2   \n",
       "\n",
       "         Outlet_Type  Item_Outlet_Sales  Outlet_Age  Item_Fat_Mean  \\\n",
       "0  Supermarket Type1           661.8052          23    2088.458613   \n",
       "1  Supermarket Type1          1765.7016          13    2108.682155   \n",
       "2  Supermarket Type3          3675.2160          35    2263.643850   \n",
       "3      Grocery Store           469.3890          35    2255.719719   \n",
       "4  Supermarket Type1           850.8924          16    2263.643850   \n",
       "\n",
       "   Outlet_Saleswise_Mean  Outlet_Size_Type_Mean  \n",
       "0            2261.483146            2330.678284  \n",
       "1            2332.127409            2303.494714  \n",
       "2            3663.008639            3663.008639  \n",
       "3             344.448863             344.448863  \n",
       "4            2405.923872            2330.678284  "
      ]
     },
     "execution_count": 464,
     "metadata": {},
     "output_type": "execute_result"
    }
   ],
   "source": [
    "train.head()"
   ]
  },
  {
   "cell_type": "code",
   "execution_count": 465,
   "metadata": {},
   "outputs": [],
   "source": [
    "categorical_columns = list(train.columns[train.dtypes == 'object'])\n",
    "usefull = ['Item_Identifier','Outlet_Identifier']\n",
    "for i in usefull:\n",
    "    categorical_columns.remove(i)\n",
    "    \n",
    "from sklearn import preprocessing  \n",
    "label_encoder = preprocessing.LabelEncoder() \n",
    "\n",
    "for column in categorical_columns:\n",
    "    train[column]= label_encoder.fit_transform(train[column])\n",
    "    localtest[column]= label_encoder.transform(localtest[column])\n",
    "    test[column]= label_encoder.transform(test[column])"
   ]
  },
  {
   "cell_type": "code",
   "execution_count": 466,
   "metadata": {},
   "outputs": [
    {
     "name": "stdout",
     "output_type": "stream",
     "text": [
      "[ 31.89     93.1804  142.0654  185.19175 266.8884 ]\n"
     ]
    }
   ],
   "source": [
    "label=[\"1\",\"2\",\"3\",\"4\"]\n",
    "train[\"MRP_Bin\"],bining=pd.qcut(train[\"Item_MRP\"], 4,retbins=True,labels=label)\n",
    "localtest[\"MRP_Bin\"]=pd.cut(localtest[\"Item_MRP\"],bins=bining,labels=label)\n",
    "test[\"MRP_Bin\"]=pd.cut(test[\"Item_MRP\"],bins=bining,labels=label)\n",
    "print(bining)\n",
    "train[\"MRP_Bin\"]=train[\"MRP_Bin\"].astype(int)\n",
    "#localtest[\"MRP_Bin\"]=localtest[\"MRP_Bin\"].astype(int)\n",
    "test[\"MRP_Bin\"]=test[\"MRP_Bin\"].astype(int)"
   ]
  },
  {
   "cell_type": "code",
   "execution_count": 467,
   "metadata": {},
   "outputs": [
    {
     "name": "stdout",
     "output_type": "stream",
     "text": [
      "31.89 266.8884\n",
      "31.29 266.5884\n",
      "31.99 266.5884\n"
     ]
    }
   ],
   "source": [
    "print(train.Item_MRP.min(),train.Item_MRP.max())\n",
    "print(localtest.Item_MRP.min(),localtest.Item_MRP.max())\n",
    "print(test.Item_MRP.min(),test.Item_MRP.max())"
   ]
  },
  {
   "cell_type": "code",
   "execution_count": 468,
   "metadata": {},
   "outputs": [],
   "source": [
    "localtest.MRP_Bin.fillna(\"1\",inplace=True)\n",
    "localtest[\"MRP_Bin\"]=localtest[\"MRP_Bin\"].astype(int)"
   ]
  },
  {
   "cell_type": "code",
   "execution_count": 469,
   "metadata": {
    "colab": {},
    "colab_type": "code",
    "id": "8wsvRM3EXvgA"
   },
   "outputs": [],
   "source": [
    "train.drop('Item_Identifier',axis=1,inplace=True)\n",
    "localtest.drop('Item_Identifier',axis=1,inplace=True)\n",
    "\n",
    "train.drop('Outlet_Identifier',axis=1,inplace=True)\n",
    "localtest.drop('Outlet_Identifier',axis=1,inplace=True)"
   ]
  },
  {
   "cell_type": "code",
   "execution_count": 470,
   "metadata": {},
   "outputs": [
    {
     "data": {
      "text/plain": [
       "Index(['Item_Weight', 'Item_Fat_Content', 'Item_Visibility', 'Item_Type',\n",
       "       'Item_MRP', 'Outlet_Size', 'Outlet_Location_Type', 'Outlet_Type',\n",
       "       'Item_Outlet_Sales', 'Outlet_Age', 'Item_Fat_Mean',\n",
       "       'Outlet_Saleswise_Mean', 'Outlet_Size_Type_Mean', 'MRP_Bin'],\n",
       "      dtype='object')"
      ]
     },
     "execution_count": 470,
     "metadata": {},
     "output_type": "execute_result"
    }
   ],
   "source": [
    "train.columns"
   ]
  },
  {
   "cell_type": "markdown",
   "metadata": {
    "colab_type": "text",
    "id": "A8x57DoCWA6_"
   },
   "source": [
    "# SPLITTING IN X & y"
   ]
  },
  {
   "cell_type": "code",
   "execution_count": 471,
   "metadata": {
    "colab": {
     "base_uri": "https://localhost:8080/",
     "height": 35
    },
    "colab_type": "code",
    "id": "j7c-ogkU3hBY",
    "outputId": "87b95de8-4ddd-44c4-cd7b-a1e0f667c9b6"
   },
   "outputs": [
    {
     "data": {
      "text/plain": [
       "((5966, 13), (2557, 13), (5966,), (2557,))"
      ]
     },
     "execution_count": 471,
     "metadata": {},
     "output_type": "execute_result"
    }
   ],
   "source": [
    "X_train= train.drop(\"Item_Outlet_Sales\",axis=1)\n",
    "y_train= train[\"Item_Outlet_Sales\"]\n",
    "\n",
    "X_localtest= localtest.drop(\"Item_Outlet_Sales\",axis=1)\n",
    "y_localtest= localtest[\"Item_Outlet_Sales\"]\n",
    "\n",
    "X_train.shape, X_localtest.shape, y_train.shape, y_localtest.shape"
   ]
  },
  {
   "cell_type": "markdown",
   "metadata": {
    "colab_type": "text",
    "id": "9pHNjfewWFXu"
   },
   "source": [
    "# FEATURE SELECTION"
   ]
  },
  {
   "cell_type": "code",
   "execution_count": 472,
   "metadata": {
    "colab": {
     "base_uri": "https://localhost:8080/",
     "height": 35
    },
    "colab_type": "code",
    "id": "V2fzOCm7WNvf",
    "outputId": "cd1d131b-78d4-4854-bf89-03a0a4fe922d"
   },
   "outputs": [
    {
     "data": {
      "text/plain": [
       "[]"
      ]
     },
     "execution_count": 472,
     "metadata": {},
     "output_type": "execute_result"
    }
   ],
   "source": [
    "from sklearn.feature_selection import VarianceThreshold\n",
    "varModel=VarianceThreshold(threshold=0) #Setting variance threshold to 0 which means features that have same value in all samples.\n",
    "varModel.fit(X_train)\n",
    "constArr=varModel.get_support()\n",
    "constCol=[col for col in X_train.columns if col not in X_train.columns[constArr]]\n",
    "constCol"
   ]
  },
  {
   "cell_type": "code",
   "execution_count": 473,
   "metadata": {
    "colab": {
     "base_uri": "https://localhost:8080/",
     "height": 35
    },
    "colab_type": "code",
    "id": "Pbe47JdBWN8c",
    "outputId": "3b8af5f5-8593-4668-ebff-af3d49a989ae"
   },
   "outputs": [
    {
     "data": {
      "text/plain": [
       "['Item_Visibility']"
      ]
     },
     "execution_count": 473,
     "metadata": {},
     "output_type": "execute_result"
    }
   ],
   "source": [
    "#Create variance threshold model\n",
    "quasiModel=VarianceThreshold(threshold=0.01) #It will search for the features having 99% of same value in all samples.\n",
    "quasiModel.fit(X_train)\n",
    "quasiArr=quasiModel.get_support()\n",
    "#Print out quasi constant feature name\n",
    "quasiCols=[col for col in X_train.columns if col not in X_train.columns[quasiArr]]\n",
    "quasiCols"
   ]
  },
  {
   "cell_type": "code",
   "execution_count": 474,
   "metadata": {
    "colab": {},
    "colab_type": "code",
    "id": "DIeNHrfgWpbp"
   },
   "outputs": [],
   "source": [
    "X_train = X_train.drop(['Item_Visibility'], axis =1)\n",
    "X_localtest = X_localtest.drop(['Item_Visibility'], axis =1)\n",
    "\n",
    "test = test.drop(['Item_Visibility'], axis =1)"
   ]
  },
  {
   "cell_type": "code",
   "execution_count": 475,
   "metadata": {
    "colab": {
     "base_uri": "https://localhost:8080/",
     "height": 35
    },
    "colab_type": "code",
    "id": "unw615UB2Wtk",
    "outputId": "06b2c110-55dc-4665-cf41-5fe6bf0a5bd8"
   },
   "outputs": [
    {
     "data": {
      "text/plain": [
       "{'MRP_Bin', 'Outlet_Saleswise_Mean', 'Outlet_Size_Type_Mean'}"
      ]
     },
     "execution_count": 475,
     "metadata": {},
     "output_type": "execute_result"
    }
   ],
   "source": [
    "def get_corr(data, threshold):\n",
    "    corr_cols=set()  #set is to store only the unique entries\n",
    "    cormat=data.corr()\n",
    "    for i in range(len(cormat.columns)):\n",
    "        for j in range(i):\n",
    "            if abs(cormat.iloc[i,j])>threshold:\n",
    "                col_name=cormat.columns[i]\n",
    "                corr_cols.add(col_name)\n",
    "    return corr_cols\n",
    "\n",
    "corr_features=get_corr(X_train,0.80)\n",
    "corr_features"
   ]
  },
  {
   "cell_type": "code",
   "execution_count": 476,
   "metadata": {
    "colab": {},
    "colab_type": "code",
    "id": "urMNZTy24cc0"
   },
   "outputs": [],
   "source": [
    "# X_train = X_train.drop(['MRP_Bin','Outlet_Saleswise_Mean','Outlet_Size_Type_Mean'], axis =1)\n",
    "# X_localtest = X_localtest.drop(['MRP_Bin','Outlet_Saleswise_Mean','Outlet_Size_Type_Mean'], axis =1)\n",
    "# test = test.drop(['MRP_Bin','Outlet_Saleswise_Mean','Outlet_Size_Type_Mean'], axis =1)"
   ]
  },
  {
   "cell_type": "code",
   "execution_count": 477,
   "metadata": {},
   "outputs": [
    {
     "data": {
      "text/plain": [
       "(5966, 12)"
      ]
     },
     "execution_count": 477,
     "metadata": {},
     "output_type": "execute_result"
    }
   ],
   "source": [
    "X_train.shape"
   ]
  },
  {
   "cell_type": "code",
   "execution_count": 478,
   "metadata": {
    "colab": {
     "base_uri": "https://localhost:8080/",
     "height": 87
    },
    "colab_type": "code",
    "id": "uVy6Oa6i3eMu",
    "outputId": "2aaec732-6f94-4fd0-a797-cbd40a67a6d4"
   },
   "outputs": [
    {
     "name": "stderr",
     "output_type": "stream",
     "text": [
      "[Parallel(n_jobs=1)]: Using backend SequentialBackend with 1 concurrent workers.\n",
      "[Parallel(n_jobs=1)]: Done   1 out of   1 | elapsed:    6.9s remaining:    0.0s\n",
      "[Parallel(n_jobs=1)]: Done  12 out of  12 | elapsed:   21.9s finished\n",
      "\n",
      "[2020-09-15 15:30:55] Features: 1/9 -- score: 0.29834019141759227[Parallel(n_jobs=1)]: Using backend SequentialBackend with 1 concurrent workers.\n",
      "[Parallel(n_jobs=1)]: Done   1 out of   1 | elapsed:    1.0s remaining:    0.0s\n",
      "[Parallel(n_jobs=1)]: Done  11 out of  11 | elapsed:   10.7s finished\n",
      "\n",
      "[2020-09-15 15:31:06] Features: 2/9 -- score: 0.5740052148660978[Parallel(n_jobs=1)]: Using backend SequentialBackend with 1 concurrent workers.\n",
      "[Parallel(n_jobs=1)]: Done   1 out of   1 | elapsed:    1.2s remaining:    0.0s\n",
      "[Parallel(n_jobs=1)]: Done  10 out of  10 | elapsed:   10.5s finished\n",
      "\n",
      "[2020-09-15 15:31:16] Features: 3/9 -- score: 0.5733023582055546[Parallel(n_jobs=1)]: Using backend SequentialBackend with 1 concurrent workers.\n",
      "[Parallel(n_jobs=1)]: Done   1 out of   1 | elapsed:    1.4s remaining:    0.0s\n",
      "[Parallel(n_jobs=1)]: Done   9 out of   9 | elapsed:   10.1s finished\n",
      "\n",
      "[2020-09-15 15:31:27] Features: 4/9 -- score: 0.5733023582055546[Parallel(n_jobs=1)]: Using backend SequentialBackend with 1 concurrent workers.\n",
      "[Parallel(n_jobs=1)]: Done   1 out of   1 | elapsed:    1.4s remaining:    0.0s\n",
      "[Parallel(n_jobs=1)]: Done   8 out of   8 | elapsed:    9.2s finished\n",
      "\n",
      "[2020-09-15 15:31:36] Features: 5/9 -- score: 0.5705531155052329[Parallel(n_jobs=1)]: Using backend SequentialBackend with 1 concurrent workers.\n",
      "[Parallel(n_jobs=1)]: Done   1 out of   1 | elapsed:    1.5s remaining:    0.0s\n",
      "[Parallel(n_jobs=1)]: Done   7 out of   7 | elapsed:    8.7s finished\n",
      "\n",
      "[2020-09-15 15:31:45] Features: 6/9 -- score: 0.5705531155052329[Parallel(n_jobs=1)]: Using backend SequentialBackend with 1 concurrent workers.\n",
      "[Parallel(n_jobs=1)]: Done   1 out of   1 | elapsed:    1.6s remaining:    0.0s\n",
      "[Parallel(n_jobs=1)]: Done   6 out of   6 | elapsed:    8.1s finished\n",
      "\n",
      "[2020-09-15 15:31:53] Features: 7/9 -- score: 0.5705531155052329[Parallel(n_jobs=1)]: Using backend SequentialBackend with 1 concurrent workers.\n",
      "[Parallel(n_jobs=1)]: Done   1 out of   1 | elapsed:    1.6s remaining:    0.0s\n",
      "[Parallel(n_jobs=1)]: Done   5 out of   5 | elapsed:    7.2s finished\n",
      "\n",
      "[2020-09-15 15:32:00] Features: 8/9 -- score: 0.5676083193718707[Parallel(n_jobs=1)]: Using backend SequentialBackend with 1 concurrent workers.\n",
      "[Parallel(n_jobs=1)]: Done   1 out of   1 | elapsed:    1.7s remaining:    0.0s\n",
      "[Parallel(n_jobs=1)]: Done   4 out of   4 | elapsed:    6.6s finished\n",
      "\n",
      "[2020-09-15 15:32:07] Features: 9/9 -- score: 0.49738425481226534"
     ]
    }
   ],
   "source": [
    "from sklearn.ensemble import RandomForestRegressor\n",
    "from mlxtend.feature_selection import SequentialFeatureSelector as SFS\n",
    "sfs= SFS(RandomForestRegressor(n_jobs=-1,random_state=0),\n",
    "         k_features= (1,9),\n",
    "         forward=True,\n",
    "         floating=False,\n",
    "         verbose=2,\n",
    "         scoring='r2',\n",
    "         cv= 3\n",
    "        ).fit(X_train,y_train)"
   ]
  },
  {
   "cell_type": "code",
   "execution_count": 479,
   "metadata": {
    "colab": {
     "base_uri": "https://localhost:8080/",
     "height": 52
    },
    "colab_type": "code",
    "id": "XlhSCHe68uDa",
    "outputId": "15fac891-38e7-4ab0-e13d-0096fb638973"
   },
   "outputs": [
    {
     "name": "stdout",
     "output_type": "stream",
     "text": [
      "2\n"
     ]
    },
    {
     "data": {
      "text/plain": [
       "['Outlet_Type', 'MRP_Bin']"
      ]
     },
     "execution_count": 479,
     "metadata": {},
     "output_type": "execute_result"
    }
   ],
   "source": [
    "imp_feat_sfs=list(sfs.k_feature_names_)\n",
    "print(len(imp_feat_sfs))\n",
    "imp_feat_sfs"
   ]
  },
  {
   "cell_type": "code",
   "execution_count": 480,
   "metadata": {
    "colab": {
     "base_uri": "https://localhost:8080/",
     "height": 35
    },
    "colab_type": "code",
    "id": "A6l4wpZqL70X",
    "outputId": "856324b9-afee-4393-dd96-fdec4ae0e7e0"
   },
   "outputs": [
    {
     "data": {
      "text/plain": [
       "0.5740052148660978"
      ]
     },
     "execution_count": 480,
     "metadata": {},
     "output_type": "execute_result"
    }
   ],
   "source": [
    "sfs.k_score_"
   ]
  },
  {
   "cell_type": "code",
   "execution_count": 481,
   "metadata": {},
   "outputs": [],
   "source": [
    "X_final_train=pd.DataFrame(X_train,columns=imp_feat_sfs)\n",
    "y_final_train=y_train\n",
    "X_final_localtest=pd.DataFrame(X_localtest,columns=imp_feat_sfs)\n",
    "y_final_localtest=y_localtest"
   ]
  },
  {
   "cell_type": "markdown",
   "metadata": {
    "colab_type": "text",
    "id": "PIo4jkQEczcQ"
   },
   "source": [
    "# RANDOM FOREST REGRESSOR"
   ]
  },
  {
   "cell_type": "code",
   "execution_count": 397,
   "metadata": {
    "colab": {
     "base_uri": "https://localhost:8080/",
     "height": 139
    },
    "colab_type": "code",
    "id": "DXHUpmALbWy8",
    "outputId": "d4dc386a-e320-4bf8-ad92-926840c66a6b"
   },
   "outputs": [
    {
     "data": {
      "text/plain": [
       "RandomForestRegressor(random_state=1)"
      ]
     },
     "execution_count": 397,
     "metadata": {},
     "output_type": "execute_result"
    }
   ],
   "source": [
    "from sklearn.ensemble import RandomForestRegressor\n",
    "rfr=RandomForestRegressor(random_state=1)\n",
    "rfr.fit(X_final_train,y_final_train)"
   ]
  },
  {
   "cell_type": "code",
   "execution_count": 398,
   "metadata": {
    "colab": {},
    "colab_type": "code",
    "id": "Lmfq-eXLdZqm"
   },
   "outputs": [],
   "source": [
    "y_pred_rfr=rfr.predict(X_final_localtest)"
   ]
  },
  {
   "cell_type": "code",
   "execution_count": 399,
   "metadata": {
    "colab": {
     "base_uri": "https://localhost:8080/",
     "height": 35
    },
    "colab_type": "code",
    "id": "OQv_4WzRkpo2",
    "outputId": "672489bd-72dc-44a2-8838-212bc1e51462"
   },
   "outputs": [
    {
     "name": "stdout",
     "output_type": "stream",
     "text": [
      "1181.1003650454638 0.5418849294715148\n"
     ]
    }
   ],
   "source": [
    "from sklearn.metrics import mean_squared_error,r2_score\n",
    "mse = mean_squared_error(y_final_localtest, y_pred_rfr)\n",
    "rmse = np.sqrt(mse)\n",
    "r2=r2_score(y_final_localtest, y_pred_rfr)\n",
    "print(rmse,r2)"
   ]
  },
  {
   "cell_type": "markdown",
   "metadata": {
    "colab_type": "text",
    "id": "T9YerLSTlWJN"
   },
   "source": [
    "# XGBREGRESSOR"
   ]
  },
  {
   "cell_type": "code",
   "execution_count": 400,
   "metadata": {
    "colab": {},
    "colab_type": "code",
    "id": "ZIG2kYX1lnjf"
   },
   "outputs": [],
   "source": [
    "from xgboost import XGBRegressor"
   ]
  },
  {
   "cell_type": "code",
   "execution_count": 401,
   "metadata": {
    "colab": {
     "base_uri": "https://localhost:8080/",
     "height": 156
    },
    "colab_type": "code",
    "id": "zwoL3p-QlvBK",
    "outputId": "7bbadca8-b509-4ee4-f9a6-33b6e6ab738a"
   },
   "outputs": [
    {
     "data": {
      "text/plain": [
       "XGBRegressor(base_score=0.5, booster='gbtree', colsample_bylevel=1,\n",
       "             colsample_bynode=1, colsample_bytree=1, gamma=0, gpu_id=-1,\n",
       "             importance_type='gain', interaction_constraints='',\n",
       "             learning_rate=0.300000012, max_delta_step=0, max_depth=6,\n",
       "             min_child_weight=1, missing=nan, monotone_constraints='()',\n",
       "             n_estimators=100, n_jobs=0, num_parallel_tree=1, random_state=0,\n",
       "             reg_alpha=0, reg_lambda=1, scale_pos_weight=1, subsample=1,\n",
       "             tree_method='exact', validate_parameters=1, verbosity=None)"
      ]
     },
     "execution_count": 401,
     "metadata": {},
     "output_type": "execute_result"
    }
   ],
   "source": [
    "xgb = XGBRegressor(random_state=0)\n",
    "xgb.fit(X_final_train,y_final_train)"
   ]
  },
  {
   "cell_type": "code",
   "execution_count": 402,
   "metadata": {
    "colab": {},
    "colab_type": "code",
    "id": "k3fES9yBmvpF"
   },
   "outputs": [],
   "source": [
    "y_pred_xgb=xgb.predict(X_final_localtest)"
   ]
  },
  {
   "cell_type": "code",
   "execution_count": 403,
   "metadata": {
    "colab": {
     "base_uri": "https://localhost:8080/",
     "height": 35
    },
    "colab_type": "code",
    "id": "96mYWsFrl3hi",
    "outputId": "dc1373f6-4724-44f3-e3ed-370fa72081e6"
   },
   "outputs": [
    {
     "name": "stdout",
     "output_type": "stream",
     "text": [
      "1189.976444090503 0.5349735019917725\n"
     ]
    }
   ],
   "source": [
    "from sklearn.metrics import mean_squared_error,r2_score\n",
    "mse = mean_squared_error(y_final_localtest, y_pred_xgb)\n",
    "rmse = np.sqrt(mse)\n",
    "r2=r2_score(y_final_localtest, y_pred_xgb)\n",
    "print(rmse,r2)"
   ]
  },
  {
   "cell_type": "markdown",
   "metadata": {
    "colab_type": "text",
    "id": "KcMat22fpY8F"
   },
   "source": [
    "# LightGBM"
   ]
  },
  {
   "cell_type": "code",
   "execution_count": 404,
   "metadata": {
    "colab": {
     "base_uri": "https://localhost:8080/",
     "height": 121
    },
    "colab_type": "code",
    "id": "Q82Mxt0WpbD5",
    "outputId": "a7e6fc35-60dd-4017-ab2d-9a59d46bc4f1"
   },
   "outputs": [],
   "source": [
    "import lightgbm\n",
    "from lightgbm import LGBMRegressor"
   ]
  },
  {
   "cell_type": "code",
   "execution_count": 405,
   "metadata": {},
   "outputs": [
    {
     "data": {
      "text/plain": [
       "LGBMRegressor(random_state=1)"
      ]
     },
     "execution_count": 405,
     "metadata": {},
     "output_type": "execute_result"
    }
   ],
   "source": [
    "lgb=LGBMRegressor(random_state=1)\n",
    "lgb.fit(X_final_train,y_final_train)"
   ]
  },
  {
   "cell_type": "code",
   "execution_count": 406,
   "metadata": {
    "colab": {},
    "colab_type": "code",
    "id": "nBPxlRkxpzAR"
   },
   "outputs": [],
   "source": [
    "y_pred_lgbm = lgb.predict(X_final_localtest)"
   ]
  },
  {
   "cell_type": "code",
   "execution_count": 407,
   "metadata": {
    "colab": {
     "base_uri": "https://localhost:8080/",
     "height": 35
    },
    "colab_type": "code",
    "id": "yvA67byqp5y5",
    "outputId": "b5005b6a-b5c1-4017-c996-f231e5c4795e"
   },
   "outputs": [
    {
     "name": "stdout",
     "output_type": "stream",
     "text": [
      "1134.2565124714272 0.5775030925032574\n"
     ]
    }
   ],
   "source": [
    "from sklearn.metrics import mean_squared_error,r2_score\n",
    "mse = mean_squared_error(y_final_localtest, y_pred_lgbm)\n",
    "rmse = np.sqrt(mse)\n",
    "r2=r2_score(y_final_localtest, y_pred_lgbm)\n",
    "print(rmse,r2)"
   ]
  },
  {
   "cell_type": "markdown",
   "metadata": {},
   "source": [
    "# Hyperparameter Tuning for LGBMRegressor"
   ]
  },
  {
   "cell_type": "code",
   "execution_count": 411,
   "metadata": {},
   "outputs": [],
   "source": [
    "params={\n",
    " \"learning_rate\"    : [0.02,0.05, 0.10] ,\n",
    " \"boosting_type\"    : ['gbdt','dart'],\n",
    " \"num_leaves\"       : [10,15,20,25],\n",
    " \"max_depth\"        : [-1, 1, 2, 3, 4],\n",
    " \"n_estimators\"     : [100,200,300,400]\n",
    "}"
   ]
  },
  {
   "cell_type": "code",
   "execution_count": 412,
   "metadata": {},
   "outputs": [],
   "source": [
    "regressor=LGBMRegressor(random_state=0)\n",
    "from sklearn.model_selection import GridSearchCV\n",
    "grid_search=GridSearchCV(regressor,param_grid=params,scoring='r2',n_jobs=-1,cv=4,verbose=2)"
   ]
  },
  {
   "cell_type": "code",
   "execution_count": 413,
   "metadata": {},
   "outputs": [
    {
     "name": "stdout",
     "output_type": "stream",
     "text": [
      "Fitting 4 folds for each of 480 candidates, totalling 1920 fits\n"
     ]
    },
    {
     "name": "stderr",
     "output_type": "stream",
     "text": [
      "[Parallel(n_jobs=-1)]: Using backend LokyBackend with 4 concurrent workers.\n",
      "[Parallel(n_jobs=-1)]: Done  33 tasks      | elapsed:   10.7s\n",
      "[Parallel(n_jobs=-1)]: Done 154 tasks      | elapsed:   26.6s\n",
      "[Parallel(n_jobs=-1)]: Done 357 tasks      | elapsed:   59.4s\n",
      "[Parallel(n_jobs=-1)]: Done 640 tasks      | elapsed:  1.7min\n",
      "[Parallel(n_jobs=-1)]: Done 1005 tasks      | elapsed:  3.0min\n",
      "[Parallel(n_jobs=-1)]: Done 1450 tasks      | elapsed:  7.2min\n",
      "[Parallel(n_jobs=-1)]: Done 1920 out of 1920 | elapsed: 12.1min finished\n"
     ]
    },
    {
     "data": {
      "text/plain": [
       "GridSearchCV(cv=4, estimator=LGBMRegressor(random_state=0), n_jobs=-1,\n",
       "             param_grid={'boosting_type': ['gbdt', 'dart'],\n",
       "                         'learning_rate': [0.02, 0.05, 0.1],\n",
       "                         'max_depth': [-1, 1, 2, 3, 4],\n",
       "                         'n_estimators': [100, 200, 300, 400],\n",
       "                         'num_leaves': [10, 15, 20, 25]},\n",
       "             scoring='r2', verbose=2)"
      ]
     },
     "execution_count": 413,
     "metadata": {},
     "output_type": "execute_result"
    }
   ],
   "source": [
    "grid_search.fit(X_final_train,y_final_train)"
   ]
  },
  {
   "cell_type": "code",
   "execution_count": 414,
   "metadata": {},
   "outputs": [
    {
     "data": {
      "text/plain": [
       "LGBMRegressor(learning_rate=0.05, max_depth=4, num_leaves=20, random_state=0)"
      ]
     },
     "execution_count": 414,
     "metadata": {},
     "output_type": "execute_result"
    }
   ],
   "source": [
    "grid_search.best_estimator_"
   ]
  },
  {
   "cell_type": "code",
   "execution_count": 416,
   "metadata": {},
   "outputs": [],
   "source": [
    "lgb_tuned=grid_search.best_estimator_"
   ]
  },
  {
   "cell_type": "code",
   "execution_count": 417,
   "metadata": {},
   "outputs": [
    {
     "name": "stdout",
     "output_type": "stream",
     "text": [
      "1104.4904258455579 0.599387143476191\n"
     ]
    }
   ],
   "source": [
    "lgb_tuned.fit(X_final_train,y_final_train)\n",
    "y_pred_lgbm_tuned = lgb_tuned.predict(X_final_localtest)\n",
    "mse = mean_squared_error(y_localtest, y_pred_lgbm_tuned)\n",
    "rmse = np.sqrt(mse)\n",
    "r2=r2_score(y_final_localtest, y_pred_lgbm_tuned)\n",
    "print(rmse,r2)"
   ]
  },
  {
   "cell_type": "code",
   "execution_count": 177,
   "metadata": {},
   "outputs": [
    {
     "data": {
      "text/plain": [
       "<matplotlib.axes._subplots.AxesSubplot at 0x20ad1dac548>"
      ]
     },
     "execution_count": 177,
     "metadata": {},
     "output_type": "execute_result"
    },
    {
     "data": {
      "image/png": "[encoded data removed]",
      "text/plain": [
       "<Figure size 432x288 with 1 Axes>"
      ]
     },
     "metadata": {
      "needs_background": "light"
     },
     "output_type": "display_data"
    }
   ],
   "source": [
    "lightgbm.plot_importance(lgb_tuned)"
   ]
  },
  {
   "cell_type": "markdown",
   "metadata": {
    "colab_type": "text",
    "id": "1tzLxC6G1X4D"
   },
   "source": [
    "# Final Prediction"
   ]
  },
  {
   "cell_type": "code",
   "execution_count": 178,
   "metadata": {
    "colab": {
     "base_uri": "https://localhost:8080/",
     "height": 52
    },
    "colab_type": "code",
    "id": "lpzqWRUS1ZwB",
    "outputId": "8a840169-eea5-4c5a-f309-11361450bc6b"
   },
   "outputs": [
    {
     "name": "stdout",
     "output_type": "stream",
     "text": [
      "(8523, 9)\n"
     ]
    },
    {
     "data": {
      "text/plain": [
       "8523"
      ]
     },
     "execution_count": 178,
     "metadata": {},
     "output_type": "execute_result"
    }
   ],
   "source": [
    "frames=[X_final_train,X_final_localtest]\n",
    "X_complete_train=pd.concat(frames)\n",
    "print(X_complete_train.shape)\n",
    "y_complete_train=y_train.append(y_final_localtest)\n",
    "len(y_complete_train)"
   ]
  },
  {
   "cell_type": "code",
   "execution_count": 179,
   "metadata": {
    "colab": {
     "base_uri": "https://localhost:8080/",
     "height": 139
    },
    "colab_type": "code",
    "id": "DJ48cbHY1pAW",
    "outputId": "98b20d62-0d6a-43f1-cd97-c8d1116e0108"
   },
   "outputs": [],
   "source": [
    "X_final_test=test.drop(['Item_Identifier','Outlet_Identifier'],axis=1)"
   ]
  },
  {
   "cell_type": "code",
   "execution_count": 180,
   "metadata": {
    "colab": {},
    "colab_type": "code",
    "id": "gb8JTwU-1y5I"
   },
   "outputs": [
    {
     "data": {
      "text/plain": [
       "((8523, 9), (5681, 9))"
      ]
     },
     "execution_count": 180,
     "metadata": {},
     "output_type": "execute_result"
    }
   ],
   "source": [
    "X_complete_train.shape, X_final_test.shape"
   ]
  },
  {
   "cell_type": "code",
   "execution_count": 181,
   "metadata": {
    "colab": {
     "base_uri": "https://localhost:8080/",
     "height": 35
    },
    "colab_type": "code",
    "id": "QEmtzsL82Gxm",
    "outputId": "3956f261-4385-4255-9d74-af82907db8d7"
   },
   "outputs": [
    {
     "data": {
      "text/plain": [
       "LGBMRegressor(learning_rate=0.05, max_depth=4, num_leaves=10, random_state=0)"
      ]
     },
     "execution_count": 181,
     "metadata": {},
     "output_type": "execute_result"
    }
   ],
   "source": [
    "lgb_tuned.fit(X_complete_train,y_complete_train)"
   ]
  },
  {
   "cell_type": "code",
   "execution_count": 182,
   "metadata": {
    "colab": {},
    "colab_type": "code",
    "id": "FdmmDQVI2ONj"
   },
   "outputs": [],
   "source": [
    " y_final_test=lgb_tuned.predict(X_final_test)"
   ]
  },
  {
   "cell_type": "code",
   "execution_count": 183,
   "metadata": {
    "colab": {
     "base_uri": "https://localhost:8080/",
     "height": 415
    },
    "colab_type": "code",
    "id": "26tet1-e202m",
    "outputId": "41718f87-72cd-4cc8-9dcb-b329bf1494a7"
   },
   "outputs": [
    {
     "data": {
      "text/html": [
       "<div>\n",
       "<style scoped>\n",
       "    .dataframe tbody tr th:only-of-type {\n",
       "        vertical-align: middle;\n",
       "    }\n",
       "\n",
       "    .dataframe tbody tr th {\n",
       "        vertical-align: top;\n",
       "    }\n",
       "\n",
       "    .dataframe thead th {\n",
       "        text-align: right;\n",
       "    }\n",
       "</style>\n",
       "<table border=\"1\" class=\"dataframe\">\n",
       "  <thead>\n",
       "    <tr style=\"text-align: right;\">\n",
       "      <th></th>\n",
       "      <th>Item_Identifier</th>\n",
       "      <th>Outlet_Identifier</th>\n",
       "      <th>Item_Outlet_Sales</th>\n",
       "    </tr>\n",
       "  </thead>\n",
       "  <tbody>\n",
       "    <tr>\n",
       "      <th>0</th>\n",
       "      <td>FDW58</td>\n",
       "      <td>OUT049</td>\n",
       "      <td>1676.561345</td>\n",
       "    </tr>\n",
       "    <tr>\n",
       "      <th>1</th>\n",
       "      <td>FDW14</td>\n",
       "      <td>OUT017</td>\n",
       "      <td>1368.374248</td>\n",
       "    </tr>\n",
       "    <tr>\n",
       "      <th>2</th>\n",
       "      <td>NCN55</td>\n",
       "      <td>OUT010</td>\n",
       "      <td>630.260944</td>\n",
       "    </tr>\n",
       "    <tr>\n",
       "      <th>3</th>\n",
       "      <td>FDQ58</td>\n",
       "      <td>OUT017</td>\n",
       "      <td>2519.730705</td>\n",
       "    </tr>\n",
       "    <tr>\n",
       "      <th>4</th>\n",
       "      <td>FDY38</td>\n",
       "      <td>OUT027</td>\n",
       "      <td>6201.366593</td>\n",
       "    </tr>\n",
       "    <tr>\n",
       "      <th>...</th>\n",
       "      <td>...</td>\n",
       "      <td>...</td>\n",
       "      <td>...</td>\n",
       "    </tr>\n",
       "    <tr>\n",
       "      <th>5676</th>\n",
       "      <td>FDB58</td>\n",
       "      <td>OUT046</td>\n",
       "      <td>2191.894011</td>\n",
       "    </tr>\n",
       "    <tr>\n",
       "      <th>5677</th>\n",
       "      <td>FDD47</td>\n",
       "      <td>OUT018</td>\n",
       "      <td>2536.215081</td>\n",
       "    </tr>\n",
       "    <tr>\n",
       "      <th>5678</th>\n",
       "      <td>NCO17</td>\n",
       "      <td>OUT045</td>\n",
       "      <td>1855.923153</td>\n",
       "    </tr>\n",
       "    <tr>\n",
       "      <th>5679</th>\n",
       "      <td>FDJ26</td>\n",
       "      <td>OUT017</td>\n",
       "      <td>3617.464323</td>\n",
       "    </tr>\n",
       "    <tr>\n",
       "      <th>5680</th>\n",
       "      <td>FDU37</td>\n",
       "      <td>OUT045</td>\n",
       "      <td>1306.239897</td>\n",
       "    </tr>\n",
       "  </tbody>\n",
       "</table>\n",
       "<p>5681 rows × 3 columns</p>\n",
       "</div>"
      ],
      "text/plain": [
       "     Item_Identifier Outlet_Identifier  Item_Outlet_Sales\n",
       "0              FDW58            OUT049        1676.561345\n",
       "1              FDW14            OUT017        1368.374248\n",
       "2              NCN55            OUT010         630.260944\n",
       "3              FDQ58            OUT017        2519.730705\n",
       "4              FDY38            OUT027        6201.366593\n",
       "...              ...               ...                ...\n",
       "5676           FDB58            OUT046        2191.894011\n",
       "5677           FDD47            OUT018        2536.215081\n",
       "5678           NCO17            OUT045        1855.923153\n",
       "5679           FDJ26            OUT017        3617.464323\n",
       "5680           FDU37            OUT045        1306.239897\n",
       "\n",
       "[5681 rows x 3 columns]"
      ]
     },
     "execution_count": 183,
     "metadata": {},
     "output_type": "execute_result"
    }
   ],
   "source": [
    "submission=pd.DataFrame({'Item_Identifier': test[\"Item_Identifier\"],'Outlet_Identifier':test[\"Outlet_Identifier\"],'Item_Outlet_Sales':y_final_test})\n",
    "submission"
   ]
  },
  {
   "cell_type": "code",
   "execution_count": 184,
   "metadata": {},
   "outputs": [
    {
     "data": {
      "text/html": [
       "<div>\n",
       "<style scoped>\n",
       "    .dataframe tbody tr th:only-of-type {\n",
       "        vertical-align: middle;\n",
       "    }\n",
       "\n",
       "    .dataframe tbody tr th {\n",
       "        vertical-align: top;\n",
       "    }\n",
       "\n",
       "    .dataframe thead th {\n",
       "        text-align: right;\n",
       "    }\n",
       "</style>\n",
       "<table border=\"1\" class=\"dataframe\">\n",
       "  <thead>\n",
       "    <tr style=\"text-align: right;\">\n",
       "      <th></th>\n",
       "      <th>Item_Identifier</th>\n",
       "      <th>Outlet_Identifier</th>\n",
       "      <th>Item_Outlet_Sales</th>\n",
       "    </tr>\n",
       "  </thead>\n",
       "  <tbody>\n",
       "  </tbody>\n",
       "</table>\n",
       "</div>"
      ],
      "text/plain": [
       "Empty DataFrame\n",
       "Columns: [Item_Identifier, Outlet_Identifier, Item_Outlet_Sales]\n",
       "Index: []"
      ]
     },
     "execution_count": 184,
     "metadata": {},
     "output_type": "execute_result"
    }
   ],
   "source": [
    "submission.loc[submission.Item_Outlet_Sales<0]"
   ]
  },
  {
   "cell_type": "code",
   "execution_count": 185,
   "metadata": {
    "colab": {},
    "colab_type": "code",
    "id": "2sAkSUJH3UvC"
   },
   "outputs": [],
   "source": [
    "submission.to_csv('lgb tuned.csv',index=False)"
   ]
  }
 ],
 "metadata": {
  "colab": {
   "collapsed_sections": [],
   "name": "Copy of Big Mart Sales Hackathon.ipynb",
   "provenance": []
  },
  "kernelspec": {
   "display_name": "Python 3",
   "language": "python",
   "name": "python3"
  },
  "language_info": {
   "codemirror_mode": {
    "name": "ipython",
    "version": 3
   },
   "file_extension": ".py",
   "mimetype": "text/x-python",
   "name": "python",
   "nbconvert_exporter": "python",
   "pygments_lexer": "ipython3",
   "version": "3.7.6"
  }
 },
 "nbformat": 4,
 "nbformat_minor": 1
}
